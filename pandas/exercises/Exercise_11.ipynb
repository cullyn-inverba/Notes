{
 "cells": [
  {
   "cell_type": "markdown",
   "metadata": {},
   "source": [
    "### Exercise 11: Cleaning messy Data"
   ]
  },
  {
   "cell_type": "markdown",
   "metadata": {},
   "source": [
    "--------------------------------------------------------------------------------------------------------------"
   ]
  },
  {
   "cell_type": "markdown",
   "metadata": {},
   "source": [
    "## Option 1: Self_guided"
   ]
  },
  {
   "cell_type": "markdown",
   "metadata": {},
   "source": [
    "__Import__ the cars dataset from the csv-file __cars_unclean.csv__ and inspect. Then, __clean up__ the dataset:\n",
    "\n",
    "- Identify and handle __inconsistent data__\n",
    "- Each column/feature should have the __appropriate/most functional datatype__\n",
    "- Identify and handle __missing values__\n",
    "- Identify and handle __duplicates__\n",
    "- Have a closer look into columns with __strings__ and clean up\n",
    "- Identify and handle __erroneous outliers__ in numerical columns\n",
    "(hint: there might be a \"fat finger\" issue in one column and some value(s) in the mpg column could be in \"gallons per mile\" units)\n",
    "- __Save and export__ the cleaned dataset in a new csv-file (cars_clean.csv)\n",
    "- Change the datatype of appropriate columns to __categorical__."
   ]
  },
  {
   "cell_type": "markdown",
   "metadata": {},
   "source": [
    "--------------------------"
   ]
  },
  {
   "cell_type": "code",
   "execution_count": 317,
   "metadata": {},
   "outputs": [],
   "source": [
    "import pandas as pd\n",
    "import matplotlib.pyplot as plt\n",
    "import seaborn as sns\n",
    "import numpy as np"
   ]
  },
  {
   "cell_type": "code",
   "execution_count": 318,
   "metadata": {},
   "outputs": [],
   "source": [
    "cars = pd.read_csv('/home/cullyn/Documents/Notes/pandas/data/part2/cars_unclean.csv')"
   ]
  },
  {
   "cell_type": "code",
   "execution_count": 319,
   "metadata": {
    "tags": []
   },
   "outputs": [
    {
     "output_type": "execute_result",
     "data": {
      "text/plain": "      mpg  cylinders  displacement horsepower  weight  acceleration  \\\n0    18.0          8         307.0   130.0 hp    3504          12.0   \n1    15.0          8         350.0   165.0 hp    3693          11.5   \n2    18.0          8         318.0   150.0 hp    3436          11.0   \n3    16.0          8         304.0   150.0 hp    3433          12.0   \n4    17.0          8         302.0   140.0 hp    3449          10.5   \n..    ...        ...           ...        ...     ...           ...   \n324  12.0          8         429.0   198.0 hp    4952          11.5   \n325  27.0          4         101.0    83.0 hp    2202          15.3   \n326  17.0          6         250.0   100.0 hp    3329          15.5   \n327  14.5          8         351.0   152.0 hp    4215          12.8   \n328  25.0          6         181.0   110.0 hp    2945          16.4   \n\n     model year         origin                          name  \n0            70  United States    chevrolet chevelle malibu   \n1            70  United States            buick skylark 320   \n2            70  United States           plymouth satellite   \n3            70            usa                amc rebel sst   \n4            70            usa                  FORD TORINO   \n..          ...            ...                           ...  \n324          73            usa     mercury marquis brougham   \n325          76         europe                 renault 12tl   \n326          71            usa    chevrolet chevelle malibu   \n327          76            usa             ford gran torino   \n328          82            usa        buick century limited   \n\n[329 rows x 9 columns]",
      "text/html": "<div>\n<style scoped>\n    .dataframe tbody tr th:only-of-type {\n        vertical-align: middle;\n    }\n\n    .dataframe tbody tr th {\n        vertical-align: top;\n    }\n\n    .dataframe thead th {\n        text-align: right;\n    }\n</style>\n<table border=\"1\" class=\"dataframe\">\n  <thead>\n    <tr style=\"text-align: right;\">\n      <th></th>\n      <th>mpg</th>\n      <th>cylinders</th>\n      <th>displacement</th>\n      <th>horsepower</th>\n      <th>weight</th>\n      <th>acceleration</th>\n      <th>model year</th>\n      <th>origin</th>\n      <th>name</th>\n    </tr>\n  </thead>\n  <tbody>\n    <tr>\n      <th>0</th>\n      <td>18.0</td>\n      <td>8</td>\n      <td>307.0</td>\n      <td>130.0 hp</td>\n      <td>3504</td>\n      <td>12.0</td>\n      <td>70</td>\n      <td>United States</td>\n      <td>chevrolet chevelle malibu</td>\n    </tr>\n    <tr>\n      <th>1</th>\n      <td>15.0</td>\n      <td>8</td>\n      <td>350.0</td>\n      <td>165.0 hp</td>\n      <td>3693</td>\n      <td>11.5</td>\n      <td>70</td>\n      <td>United States</td>\n      <td>buick skylark 320</td>\n    </tr>\n    <tr>\n      <th>2</th>\n      <td>18.0</td>\n      <td>8</td>\n      <td>318.0</td>\n      <td>150.0 hp</td>\n      <td>3436</td>\n      <td>11.0</td>\n      <td>70</td>\n      <td>United States</td>\n      <td>plymouth satellite</td>\n    </tr>\n    <tr>\n      <th>3</th>\n      <td>16.0</td>\n      <td>8</td>\n      <td>304.0</td>\n      <td>150.0 hp</td>\n      <td>3433</td>\n      <td>12.0</td>\n      <td>70</td>\n      <td>usa</td>\n      <td>amc rebel sst</td>\n    </tr>\n    <tr>\n      <th>4</th>\n      <td>17.0</td>\n      <td>8</td>\n      <td>302.0</td>\n      <td>140.0 hp</td>\n      <td>3449</td>\n      <td>10.5</td>\n      <td>70</td>\n      <td>usa</td>\n      <td>FORD TORINO</td>\n    </tr>\n    <tr>\n      <th>...</th>\n      <td>...</td>\n      <td>...</td>\n      <td>...</td>\n      <td>...</td>\n      <td>...</td>\n      <td>...</td>\n      <td>...</td>\n      <td>...</td>\n      <td>...</td>\n    </tr>\n    <tr>\n      <th>324</th>\n      <td>12.0</td>\n      <td>8</td>\n      <td>429.0</td>\n      <td>198.0 hp</td>\n      <td>4952</td>\n      <td>11.5</td>\n      <td>73</td>\n      <td>usa</td>\n      <td>mercury marquis brougham</td>\n    </tr>\n    <tr>\n      <th>325</th>\n      <td>27.0</td>\n      <td>4</td>\n      <td>101.0</td>\n      <td>83.0 hp</td>\n      <td>2202</td>\n      <td>15.3</td>\n      <td>76</td>\n      <td>europe</td>\n      <td>renault 12tl</td>\n    </tr>\n    <tr>\n      <th>326</th>\n      <td>17.0</td>\n      <td>6</td>\n      <td>250.0</td>\n      <td>100.0 hp</td>\n      <td>3329</td>\n      <td>15.5</td>\n      <td>71</td>\n      <td>usa</td>\n      <td>chevrolet chevelle malibu</td>\n    </tr>\n    <tr>\n      <th>327</th>\n      <td>14.5</td>\n      <td>8</td>\n      <td>351.0</td>\n      <td>152.0 hp</td>\n      <td>4215</td>\n      <td>12.8</td>\n      <td>76</td>\n      <td>usa</td>\n      <td>ford gran torino</td>\n    </tr>\n    <tr>\n      <th>328</th>\n      <td>25.0</td>\n      <td>6</td>\n      <td>181.0</td>\n      <td>110.0 hp</td>\n      <td>2945</td>\n      <td>16.4</td>\n      <td>82</td>\n      <td>usa</td>\n      <td>buick century limited</td>\n    </tr>\n  </tbody>\n</table>\n<p>329 rows × 9 columns</p>\n</div>"
     },
     "metadata": {},
     "execution_count": 319
    }
   ],
   "source": [
    "cars"
   ]
  },
  {
   "cell_type": "code",
   "execution_count": 320,
   "metadata": {},
   "outputs": [],
   "source": [
    "cars.rename(columns={'model year':'year', 'acceleration':'acc', 'cylinders':'cyl', 'displacement':'disp'}, inplace=True)"
   ]
  },
  {
   "cell_type": "code",
   "execution_count": 321,
   "metadata": {},
   "outputs": [],
   "source": [
    "cars.origin = cars.origin.str.strip()\n",
    "cars.origin = cars.origin.str.replace('United States', 'usa')"
   ]
  },
  {
   "cell_type": "code",
   "execution_count": 322,
   "metadata": {
    "tags": []
   },
   "outputs": [],
   "source": [
    "cars.horsepower = cars.horsepower.replace('hp', '', regex=True)\n",
    "cars.horsepower = cars.horsepower.str.strip()\n",
    "cars.horsepower = pd.to_numeric(cars.horsepower, errors='coerce').astype('Int64') "
   ]
  },
  {
   "cell_type": "code",
   "execution_count": 323,
   "metadata": {
    "tags": []
   },
   "outputs": [],
   "source": [
    "cars.acc = pd.to_numeric(cars.acc, errors='coerce').astype('float64')"
   ]
  },
  {
   "cell_type": "code",
   "execution_count": 324,
   "metadata": {},
   "outputs": [],
   "source": [
    "cars.name = cars.name.str.strip().str.lower()"
   ]
  },
  {
   "cell_type": "code",
   "execution_count": 325,
   "metadata": {},
   "outputs": [
    {
     "output_type": "execute_result",
     "data": {
      "text/plain": "      mpg  cyl   disp  horsepower  weight   acc  year  origin  \\\n323  24.3    4  151.0          90    3003  20.1    80     usa   \n268  24.3    4  151.0          90    3003  20.1    80     usa   \n322  16.0    6  258.0         110    3632  18.0    74     usa   \n117  16.0    6  258.0         110    3632  18.0    74     usa   \n308  25.0    6  181.0         110    2945  16.4    82     usa   \n328  25.0    6  181.0         110    2945  16.4    82     usa   \n31   17.0    6  250.0         100    3329  15.5    71     usa   \n326  17.0    6  250.0         100    3329  15.5    71     usa   \n165  14.5    8  351.0         152    4215  12.8    76     usa   \n327  14.5    8  351.0         152    4215  12.8    76     usa   \n79   12.0    8  429.0         198    4952  11.5    73     usa   \n324  12.0    8  429.0         198    4952  11.5    73     usa   \n320  14.0    8  340.0         160    3609   8.0    70     usa   \n11   14.0    8  340.0         160    3609   8.0    70     usa   \n321  13.0    8  360.0         170    4654  13.0    73     usa   \n94   13.0    8  360.0         170    4654  13.0    73     usa   \n161  27.0    4  101.0          83    2202  15.3    76  europe   \n325  27.0    4  101.0          83    2202  15.3    76  europe   \n319  25.0    4  104.0          95    2375  17.5    70  europe   \n20   25.0    4  104.0          95    2375  17.5    70  europe   \n\n                          name  \n323                amc concord  \n268                amc concord  \n322                amc matador  \n117                amc matador  \n308      buick century limited  \n328      buick century limited  \n31   chevrolet chevelle malibu  \n326  chevrolet chevelle malibu  \n165           ford gran torino  \n327           ford gran torino  \n79    mercury marquis brougham  \n324   mercury marquis brougham  \n320         plymouth 'cuda 340  \n11          plymouth 'cuda 340  \n321     plymouth custom suburb  \n94      plymouth custom suburb  \n161               renault 12tl  \n325               renault 12tl  \n319                   saab 99e  \n20                    saab 99e  ",
      "text/html": "<div>\n<style scoped>\n    .dataframe tbody tr th:only-of-type {\n        vertical-align: middle;\n    }\n\n    .dataframe tbody tr th {\n        vertical-align: top;\n    }\n\n    .dataframe thead th {\n        text-align: right;\n    }\n</style>\n<table border=\"1\" class=\"dataframe\">\n  <thead>\n    <tr style=\"text-align: right;\">\n      <th></th>\n      <th>mpg</th>\n      <th>cyl</th>\n      <th>disp</th>\n      <th>horsepower</th>\n      <th>weight</th>\n      <th>acc</th>\n      <th>year</th>\n      <th>origin</th>\n      <th>name</th>\n    </tr>\n  </thead>\n  <tbody>\n    <tr>\n      <th>323</th>\n      <td>24.3</td>\n      <td>4</td>\n      <td>151.0</td>\n      <td>90</td>\n      <td>3003</td>\n      <td>20.1</td>\n      <td>80</td>\n      <td>usa</td>\n      <td>amc concord</td>\n    </tr>\n    <tr>\n      <th>268</th>\n      <td>24.3</td>\n      <td>4</td>\n      <td>151.0</td>\n      <td>90</td>\n      <td>3003</td>\n      <td>20.1</td>\n      <td>80</td>\n      <td>usa</td>\n      <td>amc concord</td>\n    </tr>\n    <tr>\n      <th>322</th>\n      <td>16.0</td>\n      <td>6</td>\n      <td>258.0</td>\n      <td>110</td>\n      <td>3632</td>\n      <td>18.0</td>\n      <td>74</td>\n      <td>usa</td>\n      <td>amc matador</td>\n    </tr>\n    <tr>\n      <th>117</th>\n      <td>16.0</td>\n      <td>6</td>\n      <td>258.0</td>\n      <td>110</td>\n      <td>3632</td>\n      <td>18.0</td>\n      <td>74</td>\n      <td>usa</td>\n      <td>amc matador</td>\n    </tr>\n    <tr>\n      <th>308</th>\n      <td>25.0</td>\n      <td>6</td>\n      <td>181.0</td>\n      <td>110</td>\n      <td>2945</td>\n      <td>16.4</td>\n      <td>82</td>\n      <td>usa</td>\n      <td>buick century limited</td>\n    </tr>\n    <tr>\n      <th>328</th>\n      <td>25.0</td>\n      <td>6</td>\n      <td>181.0</td>\n      <td>110</td>\n      <td>2945</td>\n      <td>16.4</td>\n      <td>82</td>\n      <td>usa</td>\n      <td>buick century limited</td>\n    </tr>\n    <tr>\n      <th>31</th>\n      <td>17.0</td>\n      <td>6</td>\n      <td>250.0</td>\n      <td>100</td>\n      <td>3329</td>\n      <td>15.5</td>\n      <td>71</td>\n      <td>usa</td>\n      <td>chevrolet chevelle malibu</td>\n    </tr>\n    <tr>\n      <th>326</th>\n      <td>17.0</td>\n      <td>6</td>\n      <td>250.0</td>\n      <td>100</td>\n      <td>3329</td>\n      <td>15.5</td>\n      <td>71</td>\n      <td>usa</td>\n      <td>chevrolet chevelle malibu</td>\n    </tr>\n    <tr>\n      <th>165</th>\n      <td>14.5</td>\n      <td>8</td>\n      <td>351.0</td>\n      <td>152</td>\n      <td>4215</td>\n      <td>12.8</td>\n      <td>76</td>\n      <td>usa</td>\n      <td>ford gran torino</td>\n    </tr>\n    <tr>\n      <th>327</th>\n      <td>14.5</td>\n      <td>8</td>\n      <td>351.0</td>\n      <td>152</td>\n      <td>4215</td>\n      <td>12.8</td>\n      <td>76</td>\n      <td>usa</td>\n      <td>ford gran torino</td>\n    </tr>\n    <tr>\n      <th>79</th>\n      <td>12.0</td>\n      <td>8</td>\n      <td>429.0</td>\n      <td>198</td>\n      <td>4952</td>\n      <td>11.5</td>\n      <td>73</td>\n      <td>usa</td>\n      <td>mercury marquis brougham</td>\n    </tr>\n    <tr>\n      <th>324</th>\n      <td>12.0</td>\n      <td>8</td>\n      <td>429.0</td>\n      <td>198</td>\n      <td>4952</td>\n      <td>11.5</td>\n      <td>73</td>\n      <td>usa</td>\n      <td>mercury marquis brougham</td>\n    </tr>\n    <tr>\n      <th>320</th>\n      <td>14.0</td>\n      <td>8</td>\n      <td>340.0</td>\n      <td>160</td>\n      <td>3609</td>\n      <td>8.0</td>\n      <td>70</td>\n      <td>usa</td>\n      <td>plymouth 'cuda 340</td>\n    </tr>\n    <tr>\n      <th>11</th>\n      <td>14.0</td>\n      <td>8</td>\n      <td>340.0</td>\n      <td>160</td>\n      <td>3609</td>\n      <td>8.0</td>\n      <td>70</td>\n      <td>usa</td>\n      <td>plymouth 'cuda 340</td>\n    </tr>\n    <tr>\n      <th>321</th>\n      <td>13.0</td>\n      <td>8</td>\n      <td>360.0</td>\n      <td>170</td>\n      <td>4654</td>\n      <td>13.0</td>\n      <td>73</td>\n      <td>usa</td>\n      <td>plymouth custom suburb</td>\n    </tr>\n    <tr>\n      <th>94</th>\n      <td>13.0</td>\n      <td>8</td>\n      <td>360.0</td>\n      <td>170</td>\n      <td>4654</td>\n      <td>13.0</td>\n      <td>73</td>\n      <td>usa</td>\n      <td>plymouth custom suburb</td>\n    </tr>\n    <tr>\n      <th>161</th>\n      <td>27.0</td>\n      <td>4</td>\n      <td>101.0</td>\n      <td>83</td>\n      <td>2202</td>\n      <td>15.3</td>\n      <td>76</td>\n      <td>europe</td>\n      <td>renault 12tl</td>\n    </tr>\n    <tr>\n      <th>325</th>\n      <td>27.0</td>\n      <td>4</td>\n      <td>101.0</td>\n      <td>83</td>\n      <td>2202</td>\n      <td>15.3</td>\n      <td>76</td>\n      <td>europe</td>\n      <td>renault 12tl</td>\n    </tr>\n    <tr>\n      <th>319</th>\n      <td>25.0</td>\n      <td>4</td>\n      <td>104.0</td>\n      <td>95</td>\n      <td>2375</td>\n      <td>17.5</td>\n      <td>70</td>\n      <td>europe</td>\n      <td>saab 99e</td>\n    </tr>\n    <tr>\n      <th>20</th>\n      <td>25.0</td>\n      <td>4</td>\n      <td>104.0</td>\n      <td>95</td>\n      <td>2375</td>\n      <td>17.5</td>\n      <td>70</td>\n      <td>europe</td>\n      <td>saab 99e</td>\n    </tr>\n  </tbody>\n</table>\n</div>"
     },
     "metadata": {},
     "execution_count": 325
    }
   ],
   "source": [
    "cars[cars.duplicated(keep=False)].sort_values(by='name')"
   ]
  },
  {
   "cell_type": "code",
   "execution_count": 326,
   "metadata": {},
   "outputs": [],
   "source": [
    "cars.drop_duplicates(ignore_index=True, inplace=True)"
   ]
  },
  {
   "cell_type": "code",
   "execution_count": 327,
   "metadata": {
    "tags": []
   },
   "outputs": [],
   "source": [
    "cars.weight[126] = cars.weight[126] // 10"
   ]
  },
  {
   "cell_type": "code",
   "execution_count": 328,
   "metadata": {},
   "outputs": [],
   "source": [
    "cars.mpg[244] = (1 / cars.mpg[244]).round()"
   ]
  },
  {
   "cell_type": "code",
   "execution_count": 329,
   "metadata": {},
   "outputs": [],
   "source": [
    "missing_hp_idx = cars[cars.horsepower.isna()].index\n",
    "horsepowers = [100, 75, 53, 118, 81, 82]\n",
    "cars.horsepower[missing_hp_idx] = horsepowers"
   ]
  },
  {
   "cell_type": "code",
   "execution_count": 330,
   "metadata": {
    "tags": []
   },
   "outputs": [
    {
     "output_type": "stream",
     "name": "stdout",
     "text": "<class 'pandas.core.frame.DataFrame'>\nRangeIndex: 319 entries, 0 to 318\nData columns (total 9 columns):\n #   Column      Non-Null Count  Dtype  \n---  ------      --------------  -----  \n 0   mpg         319 non-null    float64\n 1   cyl         319 non-null    int64  \n 2   disp        319 non-null    float64\n 3   horsepower  319 non-null    Int64  \n 4   weight      319 non-null    int64  \n 5   acc         319 non-null    float64\n 6   year        319 non-null    int64  \n 7   origin      319 non-null    object \n 8   name        319 non-null    object \ndtypes: Int64(1), float64(3), int64(3), object(2)\nmemory usage: 22.9+ KB\n"
    }
   ],
   "source": [
    "cars.info()"
   ]
  },
  {
   "cell_type": "code",
   "execution_count": 331,
   "metadata": {},
   "outputs": [
    {
     "output_type": "execute_result",
     "data": {
      "text/plain": "mpg           103\ncyl             4\ndisp           70\nhorsepower     87\nweight        294\nacc            89\nyear           14\norigin          2\nname          241\ndtype: int64"
     },
     "metadata": {},
     "execution_count": 331
    }
   ],
   "source": [
    "cars.nunique()"
   ]
  },
  {
   "cell_type": "code",
   "execution_count": 332,
   "metadata": {},
   "outputs": [],
   "source": [
    "cars.origin = cars.origin.astype('category')\n",
    "cars.disp = cars.disp.apply(np.int64)"
   ]
  },
  {
   "cell_type": "code",
   "execution_count": 333,
   "metadata": {
    "tags": []
   },
   "outputs": [
    {
     "output_type": "stream",
     "name": "stdout",
     "text": "<class 'pandas.core.frame.DataFrame'>\nRangeIndex: 319 entries, 0 to 318\nData columns (total 9 columns):\n #   Column      Non-Null Count  Dtype   \n---  ------      --------------  -----   \n 0   mpg         319 non-null    float64 \n 1   cyl         319 non-null    int64   \n 2   disp        319 non-null    int64   \n 3   horsepower  319 non-null    Int64   \n 4   weight      319 non-null    int64   \n 5   acc         319 non-null    float64 \n 6   year        319 non-null    int64   \n 7   origin      319 non-null    category\n 8   name        319 non-null    object  \ndtypes: Int64(1), category(1), float64(2), int64(4), object(1)\nmemory usage: 20.8+ KB\n"
    }
   ],
   "source": [
    "cars.info()"
   ]
  },
  {
   "cell_type": "code",
   "execution_count": 334,
   "metadata": {},
   "outputs": [],
   "source": [
    "cars = cars.convert_dtypes()"
   ]
  },
  {
   "cell_type": "code",
   "execution_count": 335,
   "metadata": {
    "tags": []
   },
   "outputs": [
    {
     "output_type": "stream",
     "name": "stdout",
     "text": "<class 'pandas.core.frame.DataFrame'>\nRangeIndex: 319 entries, 0 to 318\nData columns (total 9 columns):\n #   Column      Non-Null Count  Dtype   \n---  ------      --------------  -----   \n 0   mpg         319 non-null    float64 \n 1   cyl         319 non-null    Int64   \n 2   disp        319 non-null    Int64   \n 3   horsepower  319 non-null    Int64   \n 4   weight      319 non-null    Int64   \n 5   acc         319 non-null    float64 \n 6   year        319 non-null    Int64   \n 7   origin      319 non-null    category\n 8   name        319 non-null    string  \ndtypes: Int64(5), category(1), float64(2), string(1)\nmemory usage: 22.0 KB\n"
    }
   ],
   "source": [
    "cars.info()"
   ]
  },
  {
   "cell_type": "code",
   "execution_count": 336,
   "metadata": {},
   "outputs": [
    {
     "output_type": "execute_result",
     "data": {
      "text/plain": "      mpg  cyl  disp  horsepower  weight   acc  year  origin  \\\n0    18.0    8   307         130    3504  12.0    70     usa   \n1    15.0    8   350         165    3693  11.5    70     usa   \n2    18.0    8   318         150    3436  11.0    70     usa   \n3    16.0    8   304         150    3433  12.0    70     usa   \n4    17.0    8   302         140    3449  10.5    70     usa   \n..    ...  ...   ...         ...     ...   ...   ...     ...   \n314  27.0    4   140          86    2790  15.6    82     usa   \n315  44.0    4    97          52    2130  24.6    82  europe   \n316  32.0    4   135          84    2295  11.6    82     usa   \n317  28.0    4   120          79    2625  18.6    82     usa   \n318  31.0    4   119          82    2720  19.4    82     usa   \n\n                          name  \n0    chevrolet chevelle malibu  \n1            buick skylark 320  \n2           plymouth satellite  \n3                amc rebel sst  \n4                  ford torino  \n..                         ...  \n314            ford mustang gl  \n315                  vw pickup  \n316              dodge rampage  \n317                ford ranger  \n318             chevrolet s-10  \n\n[319 rows x 9 columns]",
      "text/html": "<div>\n<style scoped>\n    .dataframe tbody tr th:only-of-type {\n        vertical-align: middle;\n    }\n\n    .dataframe tbody tr th {\n        vertical-align: top;\n    }\n\n    .dataframe thead th {\n        text-align: right;\n    }\n</style>\n<table border=\"1\" class=\"dataframe\">\n  <thead>\n    <tr style=\"text-align: right;\">\n      <th></th>\n      <th>mpg</th>\n      <th>cyl</th>\n      <th>disp</th>\n      <th>horsepower</th>\n      <th>weight</th>\n      <th>acc</th>\n      <th>year</th>\n      <th>origin</th>\n      <th>name</th>\n    </tr>\n  </thead>\n  <tbody>\n    <tr>\n      <th>0</th>\n      <td>18.0</td>\n      <td>8</td>\n      <td>307</td>\n      <td>130</td>\n      <td>3504</td>\n      <td>12.0</td>\n      <td>70</td>\n      <td>usa</td>\n      <td>chevrolet chevelle malibu</td>\n    </tr>\n    <tr>\n      <th>1</th>\n      <td>15.0</td>\n      <td>8</td>\n      <td>350</td>\n      <td>165</td>\n      <td>3693</td>\n      <td>11.5</td>\n      <td>70</td>\n      <td>usa</td>\n      <td>buick skylark 320</td>\n    </tr>\n    <tr>\n      <th>2</th>\n      <td>18.0</td>\n      <td>8</td>\n      <td>318</td>\n      <td>150</td>\n      <td>3436</td>\n      <td>11.0</td>\n      <td>70</td>\n      <td>usa</td>\n      <td>plymouth satellite</td>\n    </tr>\n    <tr>\n      <th>3</th>\n      <td>16.0</td>\n      <td>8</td>\n      <td>304</td>\n      <td>150</td>\n      <td>3433</td>\n      <td>12.0</td>\n      <td>70</td>\n      <td>usa</td>\n      <td>amc rebel sst</td>\n    </tr>\n    <tr>\n      <th>4</th>\n      <td>17.0</td>\n      <td>8</td>\n      <td>302</td>\n      <td>140</td>\n      <td>3449</td>\n      <td>10.5</td>\n      <td>70</td>\n      <td>usa</td>\n      <td>ford torino</td>\n    </tr>\n    <tr>\n      <th>...</th>\n      <td>...</td>\n      <td>...</td>\n      <td>...</td>\n      <td>...</td>\n      <td>...</td>\n      <td>...</td>\n      <td>...</td>\n      <td>...</td>\n      <td>...</td>\n    </tr>\n    <tr>\n      <th>314</th>\n      <td>27.0</td>\n      <td>4</td>\n      <td>140</td>\n      <td>86</td>\n      <td>2790</td>\n      <td>15.6</td>\n      <td>82</td>\n      <td>usa</td>\n      <td>ford mustang gl</td>\n    </tr>\n    <tr>\n      <th>315</th>\n      <td>44.0</td>\n      <td>4</td>\n      <td>97</td>\n      <td>52</td>\n      <td>2130</td>\n      <td>24.6</td>\n      <td>82</td>\n      <td>europe</td>\n      <td>vw pickup</td>\n    </tr>\n    <tr>\n      <th>316</th>\n      <td>32.0</td>\n      <td>4</td>\n      <td>135</td>\n      <td>84</td>\n      <td>2295</td>\n      <td>11.6</td>\n      <td>82</td>\n      <td>usa</td>\n      <td>dodge rampage</td>\n    </tr>\n    <tr>\n      <th>317</th>\n      <td>28.0</td>\n      <td>4</td>\n      <td>120</td>\n      <td>79</td>\n      <td>2625</td>\n      <td>18.6</td>\n      <td>82</td>\n      <td>usa</td>\n      <td>ford ranger</td>\n    </tr>\n    <tr>\n      <th>318</th>\n      <td>31.0</td>\n      <td>4</td>\n      <td>119</td>\n      <td>82</td>\n      <td>2720</td>\n      <td>19.4</td>\n      <td>82</td>\n      <td>usa</td>\n      <td>chevrolet s-10</td>\n    </tr>\n  </tbody>\n</table>\n<p>319 rows × 9 columns</p>\n</div>"
     },
     "metadata": {},
     "execution_count": 336
    }
   ],
   "source": [
    "cars"
   ]
  },
  {
   "cell_type": "code",
   "execution_count": 337,
   "metadata": {},
   "outputs": [],
   "source": [
    "cars.rename(columns={'horsepower':'hp'}, inplace=True)"
   ]
  },
  {
   "cell_type": "code",
   "execution_count": 338,
   "metadata": {},
   "outputs": [
    {
     "output_type": "execute_result",
     "data": {
      "text/plain": "      mpg  cyl  disp   hp  weight   acc  year  origin  \\\n0    18.0    8   307  130    3504  12.0    70     usa   \n1    15.0    8   350  165    3693  11.5    70     usa   \n2    18.0    8   318  150    3436  11.0    70     usa   \n3    16.0    8   304  150    3433  12.0    70     usa   \n4    17.0    8   302  140    3449  10.5    70     usa   \n..    ...  ...   ...  ...     ...   ...   ...     ...   \n314  27.0    4   140   86    2790  15.6    82     usa   \n315  44.0    4    97   52    2130  24.6    82  europe   \n316  32.0    4   135   84    2295  11.6    82     usa   \n317  28.0    4   120   79    2625  18.6    82     usa   \n318  31.0    4   119   82    2720  19.4    82     usa   \n\n                          name  \n0    chevrolet chevelle malibu  \n1            buick skylark 320  \n2           plymouth satellite  \n3                amc rebel sst  \n4                  ford torino  \n..                         ...  \n314            ford mustang gl  \n315                  vw pickup  \n316              dodge rampage  \n317                ford ranger  \n318             chevrolet s-10  \n\n[319 rows x 9 columns]",
      "text/html": "<div>\n<style scoped>\n    .dataframe tbody tr th:only-of-type {\n        vertical-align: middle;\n    }\n\n    .dataframe tbody tr th {\n        vertical-align: top;\n    }\n\n    .dataframe thead th {\n        text-align: right;\n    }\n</style>\n<table border=\"1\" class=\"dataframe\">\n  <thead>\n    <tr style=\"text-align: right;\">\n      <th></th>\n      <th>mpg</th>\n      <th>cyl</th>\n      <th>disp</th>\n      <th>hp</th>\n      <th>weight</th>\n      <th>acc</th>\n      <th>year</th>\n      <th>origin</th>\n      <th>name</th>\n    </tr>\n  </thead>\n  <tbody>\n    <tr>\n      <th>0</th>\n      <td>18.0</td>\n      <td>8</td>\n      <td>307</td>\n      <td>130</td>\n      <td>3504</td>\n      <td>12.0</td>\n      <td>70</td>\n      <td>usa</td>\n      <td>chevrolet chevelle malibu</td>\n    </tr>\n    <tr>\n      <th>1</th>\n      <td>15.0</td>\n      <td>8</td>\n      <td>350</td>\n      <td>165</td>\n      <td>3693</td>\n      <td>11.5</td>\n      <td>70</td>\n      <td>usa</td>\n      <td>buick skylark 320</td>\n    </tr>\n    <tr>\n      <th>2</th>\n      <td>18.0</td>\n      <td>8</td>\n      <td>318</td>\n      <td>150</td>\n      <td>3436</td>\n      <td>11.0</td>\n      <td>70</td>\n      <td>usa</td>\n      <td>plymouth satellite</td>\n    </tr>\n    <tr>\n      <th>3</th>\n      <td>16.0</td>\n      <td>8</td>\n      <td>304</td>\n      <td>150</td>\n      <td>3433</td>\n      <td>12.0</td>\n      <td>70</td>\n      <td>usa</td>\n      <td>amc rebel sst</td>\n    </tr>\n    <tr>\n      <th>4</th>\n      <td>17.0</td>\n      <td>8</td>\n      <td>302</td>\n      <td>140</td>\n      <td>3449</td>\n      <td>10.5</td>\n      <td>70</td>\n      <td>usa</td>\n      <td>ford torino</td>\n    </tr>\n    <tr>\n      <th>...</th>\n      <td>...</td>\n      <td>...</td>\n      <td>...</td>\n      <td>...</td>\n      <td>...</td>\n      <td>...</td>\n      <td>...</td>\n      <td>...</td>\n      <td>...</td>\n    </tr>\n    <tr>\n      <th>314</th>\n      <td>27.0</td>\n      <td>4</td>\n      <td>140</td>\n      <td>86</td>\n      <td>2790</td>\n      <td>15.6</td>\n      <td>82</td>\n      <td>usa</td>\n      <td>ford mustang gl</td>\n    </tr>\n    <tr>\n      <th>315</th>\n      <td>44.0</td>\n      <td>4</td>\n      <td>97</td>\n      <td>52</td>\n      <td>2130</td>\n      <td>24.6</td>\n      <td>82</td>\n      <td>europe</td>\n      <td>vw pickup</td>\n    </tr>\n    <tr>\n      <th>316</th>\n      <td>32.0</td>\n      <td>4</td>\n      <td>135</td>\n      <td>84</td>\n      <td>2295</td>\n      <td>11.6</td>\n      <td>82</td>\n      <td>usa</td>\n      <td>dodge rampage</td>\n    </tr>\n    <tr>\n      <th>317</th>\n      <td>28.0</td>\n      <td>4</td>\n      <td>120</td>\n      <td>79</td>\n      <td>2625</td>\n      <td>18.6</td>\n      <td>82</td>\n      <td>usa</td>\n      <td>ford ranger</td>\n    </tr>\n    <tr>\n      <th>318</th>\n      <td>31.0</td>\n      <td>4</td>\n      <td>119</td>\n      <td>82</td>\n      <td>2720</td>\n      <td>19.4</td>\n      <td>82</td>\n      <td>usa</td>\n      <td>chevrolet s-10</td>\n    </tr>\n  </tbody>\n</table>\n<p>319 rows × 9 columns</p>\n</div>"
     },
     "metadata": {},
     "execution_count": 338
    }
   ],
   "source": [
    "cars"
   ]
  },
  {
   "cell_type": "code",
   "execution_count": 339,
   "metadata": {},
   "outputs": [],
   "source": [
    "split = cars.name.str.split(' ', n=1, expand =True)\n",
    "split.columns = ['corp', 'name']\n"
   ]
  },
  {
   "cell_type": "code",
   "execution_count": 340,
   "metadata": {},
   "outputs": [],
   "source": [
    "cars.drop('name', axis=1, inplace=True)"
   ]
  },
  {
   "cell_type": "code",
   "execution_count": 346,
   "metadata": {},
   "outputs": [],
   "source": [
    "cars = pd.concat([cars,split], axis=1)"
   ]
  },
  {
   "cell_type": "code",
   "execution_count": 399,
   "metadata": {},
   "outputs": [
    {
     "output_type": "execute_result",
     "data": {
      "text/plain": "Int64Index([105, 106, 107, 108, 109], dtype='int64')"
     },
     "metadata": {},
     "execution_count": 399
    }
   ],
   "source": [
    "cars.loc[cars['year']==1973].index"
   ]
  },
  {
   "cell_type": "code",
   "execution_count": 405,
   "metadata": {},
   "outputs": [],
   "source": [
    "cars.year = cars.year.replace(1973, 73)"
   ]
  },
  {
   "cell_type": "code",
   "execution_count": 410,
   "metadata": {
    "tags": []
   },
   "outputs": [
    {
     "output_type": "execute_result",
     "data": {
      "text/plain": "mpg       103\ncyl         4\ndisp       69\nhp         87\nweight    294\nacc        89\nyear       13\norigin      2\ncorp       23\nname      241\ndtype: int64"
     },
     "metadata": {},
     "execution_count": 410
    }
   ],
   "source": [
    "cars.nunique()"
   ]
  },
  {
   "cell_type": "code",
   "execution_count": 411,
   "metadata": {},
   "outputs": [],
   "source": [
    "cars.corp = cars.corp.astype('category')"
   ]
  },
  {
   "cell_type": "code",
   "execution_count": 413,
   "metadata": {
    "tags": []
   },
   "outputs": [
    {
     "output_type": "execute_result",
     "data": {
      "text/plain": "150    22\n90     18\n110    17\n100    16\n88     14\n       ..\n58      1\n64      1\n77      1\n62      1\n102     1\nName: hp, Length: 87, dtype: Int64"
     },
     "metadata": {},
     "execution_count": 413
    }
   ],
   "source": [
    "cars..value_counts()"
   ]
  },
  {
   "cell_type": "code",
   "execution_count": 416,
   "metadata": {},
   "outputs": [],
   "source": [
    "cars.to_csv('/home/cullyn/Documents/Notes/pandas/data/part2/cars_clean.csv', index=False)"
   ]
  },
  {
   "cell_type": "code",
   "execution_count": null,
   "metadata": {},
   "outputs": [],
   "source": []
  }
 ],
 "metadata": {
  "kernelspec": {
   "display_name": "Python 3",
   "language": "python",
   "name": "python3"
  },
  "language_info": {
   "codemirror_mode": {
    "name": "ipython",
    "version": 3
   },
   "file_extension": ".py",
   "mimetype": "text/x-python",
   "name": "python",
   "nbconvert_exporter": "python",
   "pygments_lexer": "ipython3",
   "version": "3.8.5-final"
  }
 },
 "nbformat": 4,
 "nbformat_minor": 2
}