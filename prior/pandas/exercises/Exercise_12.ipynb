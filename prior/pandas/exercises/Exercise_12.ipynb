{
 "cells": [
  {
   "cell_type": "markdown",
   "metadata": {},
   "source": [
    "### Exercise 12: Merging, joining, aligning and concatenating Data "
   ]
  },
  {
   "cell_type": "markdown",
   "metadata": {},
   "source": [
    "### Concatenating DataFrames vertically"
   ]
  },
  {
   "cell_type": "markdown",
   "metadata": {},
   "source": [
    "__Import__ the cars dataset (with cars from usa and europe) from the csv-file __cars_clean.csv__. <br>\n",
    "Also __import__ the csv-file __cars_jap.csv__ (with cars from japan) and __concatenate__ both DataFrames __vertically__! <br>\n",
    "__Save__ the __concatenated DataFrame__ in the variable __cars_all__! <br>\n",
    "Finally, __sort__ cars_all by the model_year from __low to high__!"
   ]
  },
  {
   "cell_type": "markdown",
   "metadata": {},
   "source": [
    "### Left Join"
   ]
  },
  {
   "cell_type": "code",
   "execution_count": 105,
   "metadata": {},
   "outputs": [],
   "source": [
    "import pandas as pd"
   ]
  },
  {
   "cell_type": "code",
   "execution_count": 106,
   "metadata": {},
   "outputs": [],
   "source": [
    "clean = pd.read_csv('../data/part2/cars_clean.csv')\n",
    "jap = pd.read_csv('../data/part2/cars_jap.csv')"
   ]
  },
  {
   "cell_type": "code",
   "execution_count": 107,
   "metadata": {},
   "outputs": [],
   "source": [
    "split = jap.name.str.split(' ', n=1,expand=True)\n",
    "split.columns = ['corp', 'name']\n",
    "jap.drop('name', axis=1, inplace=True)\n",
    "jap = pd.concat([jap, split], axis =1)"
   ]
  },
  {
   "cell_type": "code",
   "execution_count": 108,
   "metadata": {},
   "outputs": [
    {
     "output_type": "execute_result",
     "data": {
      "text/plain": "(    mpg  cyl   disp    hp  weight   acc  year    corp            name\n 0  24.0    4  113.0  95.0    2372  15.0    70  toyota  corona mark ii\n 1  27.0    4   97.0  88.0    2130  14.5    70  datsun           pl510\n 2  27.0    4   97.0  88.0    2130  14.5    71  datsun           pl510\n 3  25.0    4  113.0  95.0    2228  14.0    71  toyota          corona\n 4  31.0    4   71.0  65.0    1773  19.0    71  toyota    corolla 1200,\n     mpg  cyl  disp   hp  weight   acc  year origin       corp             name\n 0  18.0    8   307  130    3504  12.0    70    usa  chevrolet  chevelle malibu\n 1  15.0    8   350  165    3693  11.5    70    usa      buick      skylark 320\n 2  18.0    8   318  150    3436  11.0    70    usa   plymouth        satellite\n 3  16.0    8   304  150    3433  12.0    70    usa        amc        rebel sst\n 4  17.0    8   302  140    3449  10.5    70    usa       ford           torino)"
     },
     "metadata": {},
     "execution_count": 108
    }
   ],
   "source": [
    "jap.head(), clean.head()"
   ]
  },
  {
   "cell_type": "code",
   "execution_count": 109,
   "metadata": {},
   "outputs": [],
   "source": [
    "jap.insert(7, 'origin', 'japan')"
   ]
  },
  {
   "cell_type": "code",
   "execution_count": 110,
   "metadata": {},
   "outputs": [],
   "source": [
    "\n",
    "cars_all = pd.concat([jap, clean], ignore_index=True)"
   ]
  },
  {
   "cell_type": "code",
   "execution_count": 111,
   "metadata": {
    "tags": []
   },
   "outputs": [
    {
     "output_type": "execute_result",
     "data": {
      "text/plain": "     mpg  cyl   disp    hp  weight   acc  year origin    corp  name\n20  26.0    4  108.0  93.0    2391  15.5    74  japan  subaru  None\n60  32.3    4   97.0  67.0    2065  17.8    81  japan  subaru  None",
      "text/html": "<div>\n<style scoped>\n    .dataframe tbody tr th:only-of-type {\n        vertical-align: middle;\n    }\n\n    .dataframe tbody tr th {\n        vertical-align: top;\n    }\n\n    .dataframe thead th {\n        text-align: right;\n    }\n</style>\n<table border=\"1\" class=\"dataframe\">\n  <thead>\n    <tr style=\"text-align: right;\">\n      <th></th>\n      <th>mpg</th>\n      <th>cyl</th>\n      <th>disp</th>\n      <th>hp</th>\n      <th>weight</th>\n      <th>acc</th>\n      <th>year</th>\n      <th>origin</th>\n      <th>corp</th>\n      <th>name</th>\n    </tr>\n  </thead>\n  <tbody>\n    <tr>\n      <th>20</th>\n      <td>26.0</td>\n      <td>4</td>\n      <td>108.0</td>\n      <td>93.0</td>\n      <td>2391</td>\n      <td>15.5</td>\n      <td>74</td>\n      <td>japan</td>\n      <td>subaru</td>\n      <td>None</td>\n    </tr>\n    <tr>\n      <th>60</th>\n      <td>32.3</td>\n      <td>4</td>\n      <td>97.0</td>\n      <td>67.0</td>\n      <td>2065</td>\n      <td>17.8</td>\n      <td>81</td>\n      <td>japan</td>\n      <td>subaru</td>\n      <td>None</td>\n    </tr>\n  </tbody>\n</table>\n</div>"
     },
     "metadata": {},
     "execution_count": 111
    }
   ],
   "source": [
    "cars_all.iloc[[20, 60]]"
   ]
  },
  {
   "cell_type": "code",
   "execution_count": 125,
   "metadata": {},
   "outputs": [],
   "source": [
    "cars_all.sort_values('year', ignore_index=True, inplace=True)"
   ]
  },
  {
   "cell_type": "code",
   "execution_count": 126,
   "metadata": {},
   "outputs": [
    {
     "output_type": "execute_result",
     "data": {
      "text/plain": "      mpg  cyl   disp     hp  weight   acc  year origin       corp  \\\n0    24.0    4  113.0   95.0    2372  15.0    70  japan     toyota   \n1     9.0    8  304.0  193.0    4732  18.5    70    usa         ih   \n2    11.0    8  318.0  210.0    4382  13.5    70    usa      dodge   \n3    10.0    8  307.0  200.0    4376  15.0    70    usa  chevrolet   \n4    10.0    8  360.0  215.0    4615  14.0    70    usa       ford   \n..    ...  ...    ...    ...     ...   ...   ...    ...        ...   \n393  34.0    4  108.0   70.0    2245  16.9    82  japan     toyota   \n394  38.0    4   91.0   67.0    1965  15.0    82  japan      honda   \n395  32.0    4   91.0   67.0    1965  15.7    82  japan      honda   \n396  27.0    4  151.0   90.0    2735  18.0    82    usa    pontiac   \n397  31.0    4  119.0   82.0    2720  19.4    82    usa  chevrolet   \n\n               name  \n0    corona mark ii  \n1             1200d  \n2              d200  \n3               c20  \n4              f250  \n..              ...  \n393         corolla  \n394           civic  \n395    civic (auto)  \n396         phoenix  \n397            s-10  \n\n[398 rows x 10 columns]",
      "text/html": "<div>\n<style scoped>\n    .dataframe tbody tr th:only-of-type {\n        vertical-align: middle;\n    }\n\n    .dataframe tbody tr th {\n        vertical-align: top;\n    }\n\n    .dataframe thead th {\n        text-align: right;\n    }\n</style>\n<table border=\"1\" class=\"dataframe\">\n  <thead>\n    <tr style=\"text-align: right;\">\n      <th></th>\n      <th>mpg</th>\n      <th>cyl</th>\n      <th>disp</th>\n      <th>hp</th>\n      <th>weight</th>\n      <th>acc</th>\n      <th>year</th>\n      <th>origin</th>\n      <th>corp</th>\n      <th>name</th>\n    </tr>\n  </thead>\n  <tbody>\n    <tr>\n      <th>0</th>\n      <td>24.0</td>\n      <td>4</td>\n      <td>113.0</td>\n      <td>95.0</td>\n      <td>2372</td>\n      <td>15.0</td>\n      <td>70</td>\n      <td>japan</td>\n      <td>toyota</td>\n      <td>corona mark ii</td>\n    </tr>\n    <tr>\n      <th>1</th>\n      <td>9.0</td>\n      <td>8</td>\n      <td>304.0</td>\n      <td>193.0</td>\n      <td>4732</td>\n      <td>18.5</td>\n      <td>70</td>\n      <td>usa</td>\n      <td>ih</td>\n      <td>1200d</td>\n    </tr>\n    <tr>\n      <th>2</th>\n      <td>11.0</td>\n      <td>8</td>\n      <td>318.0</td>\n      <td>210.0</td>\n      <td>4382</td>\n      <td>13.5</td>\n      <td>70</td>\n      <td>usa</td>\n      <td>dodge</td>\n      <td>d200</td>\n    </tr>\n    <tr>\n      <th>3</th>\n      <td>10.0</td>\n      <td>8</td>\n      <td>307.0</td>\n      <td>200.0</td>\n      <td>4376</td>\n      <td>15.0</td>\n      <td>70</td>\n      <td>usa</td>\n      <td>chevrolet</td>\n      <td>c20</td>\n    </tr>\n    <tr>\n      <th>4</th>\n      <td>10.0</td>\n      <td>8</td>\n      <td>360.0</td>\n      <td>215.0</td>\n      <td>4615</td>\n      <td>14.0</td>\n      <td>70</td>\n      <td>usa</td>\n      <td>ford</td>\n      <td>f250</td>\n    </tr>\n    <tr>\n      <th>...</th>\n      <td>...</td>\n      <td>...</td>\n      <td>...</td>\n      <td>...</td>\n      <td>...</td>\n      <td>...</td>\n      <td>...</td>\n      <td>...</td>\n      <td>...</td>\n      <td>...</td>\n    </tr>\n    <tr>\n      <th>393</th>\n      <td>34.0</td>\n      <td>4</td>\n      <td>108.0</td>\n      <td>70.0</td>\n      <td>2245</td>\n      <td>16.9</td>\n      <td>82</td>\n      <td>japan</td>\n      <td>toyota</td>\n      <td>corolla</td>\n    </tr>\n    <tr>\n      <th>394</th>\n      <td>38.0</td>\n      <td>4</td>\n      <td>91.0</td>\n      <td>67.0</td>\n      <td>1965</td>\n      <td>15.0</td>\n      <td>82</td>\n      <td>japan</td>\n      <td>honda</td>\n      <td>civic</td>\n    </tr>\n    <tr>\n      <th>395</th>\n      <td>32.0</td>\n      <td>4</td>\n      <td>91.0</td>\n      <td>67.0</td>\n      <td>1965</td>\n      <td>15.7</td>\n      <td>82</td>\n      <td>japan</td>\n      <td>honda</td>\n      <td>civic (auto)</td>\n    </tr>\n    <tr>\n      <th>396</th>\n      <td>27.0</td>\n      <td>4</td>\n      <td>151.0</td>\n      <td>90.0</td>\n      <td>2735</td>\n      <td>18.0</td>\n      <td>82</td>\n      <td>usa</td>\n      <td>pontiac</td>\n      <td>phoenix</td>\n    </tr>\n    <tr>\n      <th>397</th>\n      <td>31.0</td>\n      <td>4</td>\n      <td>119.0</td>\n      <td>82.0</td>\n      <td>2720</td>\n      <td>19.4</td>\n      <td>82</td>\n      <td>usa</td>\n      <td>chevrolet</td>\n      <td>s-10</td>\n    </tr>\n  </tbody>\n</table>\n<p>398 rows × 10 columns</p>\n</div>"
     },
     "metadata": {},
     "execution_count": 126
    }
   ],
   "source": [
    "cars_all"
   ]
  },
  {
   "cell_type": "markdown",
   "metadata": {},
   "source": [
    "__Import__ the csv-files __summer.csv__ (as summer) and __dictionary.csv__ (as dic) which contains the __full country name__ for the olympic country codes as well as __population__ and __gdp__ statistics for some countries.<br>\n",
    "\n",
    "__\"Copy and paste\"__ the __full country name__, __population__ and __gdp__ from the dic DataFrame __into the summer DataFrame__ with a __Left Join__!<br>\n",
    "__Save__ the new merged DataFrame in the variable __summer_new__!<br>\n",
    "\n",
    "__Inspect__ summer_new and determine the __olympic country codes__ for which the dic DataFrame does __not provide__ any information!"
   ]
  },
  {
   "cell_type": "code",
   "execution_count": 128,
   "metadata": {},
   "outputs": [],
   "source": [
    "summer = pd.read_csv('../data/part2/summer.csv')\n",
    "dic = pd.read_csv('../data/part2/dictionary.csv')"
   ]
  },
  {
   "cell_type": "code",
   "execution_count": 137,
   "metadata": {},
   "outputs": [
    {
     "output_type": "execute_result",
     "data": {
      "text/plain": "           Country Code  Population  GDP per Capita\n0      Afghanistan  AFG  32526562.0      594.323081\n1          Albania  ALB   2889167.0     3945.217582\n2          Algeria  ALG  39666519.0     4206.031232\n3  American Samoa*  ASA     55538.0             NaN\n4          Andorra  AND     70473.0             NaN",
      "text/html": "<div>\n<style scoped>\n    .dataframe tbody tr th:only-of-type {\n        vertical-align: middle;\n    }\n\n    .dataframe tbody tr th {\n        vertical-align: top;\n    }\n\n    .dataframe thead th {\n        text-align: right;\n    }\n</style>\n<table border=\"1\" class=\"dataframe\">\n  <thead>\n    <tr style=\"text-align: right;\">\n      <th></th>\n      <th>Country</th>\n      <th>Code</th>\n      <th>Population</th>\n      <th>GDP per Capita</th>\n    </tr>\n  </thead>\n  <tbody>\n    <tr>\n      <th>0</th>\n      <td>Afghanistan</td>\n      <td>AFG</td>\n      <td>32526562.0</td>\n      <td>594.323081</td>\n    </tr>\n    <tr>\n      <th>1</th>\n      <td>Albania</td>\n      <td>ALB</td>\n      <td>2889167.0</td>\n      <td>3945.217582</td>\n    </tr>\n    <tr>\n      <th>2</th>\n      <td>Algeria</td>\n      <td>ALG</td>\n      <td>39666519.0</td>\n      <td>4206.031232</td>\n    </tr>\n    <tr>\n      <th>3</th>\n      <td>American Samoa*</td>\n      <td>ASA</td>\n      <td>55538.0</td>\n      <td>NaN</td>\n    </tr>\n    <tr>\n      <th>4</th>\n      <td>Andorra</td>\n      <td>AND</td>\n      <td>70473.0</td>\n      <td>NaN</td>\n    </tr>\n  </tbody>\n</table>\n</div>"
     },
     "metadata": {},
     "execution_count": 137
    }
   ],
   "source": [
    "dic.head()"
   ]
  },
  {
   "cell_type": "code",
   "execution_count": 187,
   "metadata": {},
   "outputs": [
    {
     "output_type": "execute_result",
     "data": {
      "text/plain": "       Year    City      Sport           Discipline  \\\n0      1896  Athens   Aquatics             Swimming   \n1      1896  Athens   Aquatics             Swimming   \n2      1896  Athens   Aquatics             Swimming   \n3      1896  Athens   Aquatics             Swimming   \n4      1896  Athens   Aquatics             Swimming   \n...     ...     ...        ...                  ...   \n31160  2012  London  Wrestling  Wrestling Freestyle   \n31161  2012  London  Wrestling  Wrestling Freestyle   \n31162  2012  London  Wrestling  Wrestling Freestyle   \n31163  2012  London  Wrestling  Wrestling Freestyle   \n31164  2012  London  Wrestling  Wrestling Freestyle   \n\n                         Athlete Country_x Gender                       Event  \\\n0                  HAJOS, Alfred       HUN    Men              100M Freestyle   \n1               HERSCHMANN, Otto       AUT    Men              100M Freestyle   \n2              DRIVAS, Dimitrios       GRE    Men  100M Freestyle For Sailors   \n3             MALOKINIS, Ioannis       GRE    Men  100M Freestyle For Sailors   \n4             CHASAPIS, Spiridon       GRE    Men  100M Freestyle For Sailors   \n...                          ...       ...    ...                         ...   \n31160         JANIKOWSKI, Damian       POL    Men                    Wg 84 KG   \n31161  REZAEI, Ghasem Gholamreza       IRI    Men                    Wg 96 KG   \n31162             TOTROV, Rustam       RUS    Men                    Wg 96 KG   \n31163          ALEKSANYAN, Artur       ARM    Men                    Wg 96 KG   \n31164             LIDBERG, Jimmy       SWE    Men                    Wg 96 KG   \n\n        Medal Country_y Code   Population  GDP per Capita  \n0        Gold   Hungary  HUN    9844686.0    12363.543460  \n1      Silver   Austria  AUT    8611088.0    43774.985174  \n2      Bronze    Greece  GRE   10823732.0    18002.230578  \n3        Gold    Greece  GRE   10823732.0    18002.230578  \n4      Silver    Greece  GRE   10823732.0    18002.230578  \n...       ...       ...  ...          ...             ...  \n31160  Bronze    Poland  POL   37999494.0    12554.547554  \n31161    Gold      Iran  IRI   79109272.0             NaN  \n31162  Silver    Russia  RUS  144096812.0     9092.580536  \n31163  Bronze   Armenia  ARM    3017712.0     3489.127690  \n31164  Bronze    Sweden  SWE    9798871.0    50579.673649  \n\n[31165 rows x 13 columns]",
      "text/html": "<div>\n<style scoped>\n    .dataframe tbody tr th:only-of-type {\n        vertical-align: middle;\n    }\n\n    .dataframe tbody tr th {\n        vertical-align: top;\n    }\n\n    .dataframe thead th {\n        text-align: right;\n    }\n</style>\n<table border=\"1\" class=\"dataframe\">\n  <thead>\n    <tr style=\"text-align: right;\">\n      <th></th>\n      <th>Year</th>\n      <th>City</th>\n      <th>Sport</th>\n      <th>Discipline</th>\n      <th>Athlete</th>\n      <th>Country_x</th>\n      <th>Gender</th>\n      <th>Event</th>\n      <th>Medal</th>\n      <th>Country_y</th>\n      <th>Code</th>\n      <th>Population</th>\n      <th>GDP per Capita</th>\n    </tr>\n  </thead>\n  <tbody>\n    <tr>\n      <th>0</th>\n      <td>1896</td>\n      <td>Athens</td>\n      <td>Aquatics</td>\n      <td>Swimming</td>\n      <td>HAJOS, Alfred</td>\n      <td>HUN</td>\n      <td>Men</td>\n      <td>100M Freestyle</td>\n      <td>Gold</td>\n      <td>Hungary</td>\n      <td>HUN</td>\n      <td>9844686.0</td>\n      <td>12363.543460</td>\n    </tr>\n    <tr>\n      <th>1</th>\n      <td>1896</td>\n      <td>Athens</td>\n      <td>Aquatics</td>\n      <td>Swimming</td>\n      <td>HERSCHMANN, Otto</td>\n      <td>AUT</td>\n      <td>Men</td>\n      <td>100M Freestyle</td>\n      <td>Silver</td>\n      <td>Austria</td>\n      <td>AUT</td>\n      <td>8611088.0</td>\n      <td>43774.985174</td>\n    </tr>\n    <tr>\n      <th>2</th>\n      <td>1896</td>\n      <td>Athens</td>\n      <td>Aquatics</td>\n      <td>Swimming</td>\n      <td>DRIVAS, Dimitrios</td>\n      <td>GRE</td>\n      <td>Men</td>\n      <td>100M Freestyle For Sailors</td>\n      <td>Bronze</td>\n      <td>Greece</td>\n      <td>GRE</td>\n      <td>10823732.0</td>\n      <td>18002.230578</td>\n    </tr>\n    <tr>\n      <th>3</th>\n      <td>1896</td>\n      <td>Athens</td>\n      <td>Aquatics</td>\n      <td>Swimming</td>\n      <td>MALOKINIS, Ioannis</td>\n      <td>GRE</td>\n      <td>Men</td>\n      <td>100M Freestyle For Sailors</td>\n      <td>Gold</td>\n      <td>Greece</td>\n      <td>GRE</td>\n      <td>10823732.0</td>\n      <td>18002.230578</td>\n    </tr>\n    <tr>\n      <th>4</th>\n      <td>1896</td>\n      <td>Athens</td>\n      <td>Aquatics</td>\n      <td>Swimming</td>\n      <td>CHASAPIS, Spiridon</td>\n      <td>GRE</td>\n      <td>Men</td>\n      <td>100M Freestyle For Sailors</td>\n      <td>Silver</td>\n      <td>Greece</td>\n      <td>GRE</td>\n      <td>10823732.0</td>\n      <td>18002.230578</td>\n    </tr>\n    <tr>\n      <th>...</th>\n      <td>...</td>\n      <td>...</td>\n      <td>...</td>\n      <td>...</td>\n      <td>...</td>\n      <td>...</td>\n      <td>...</td>\n      <td>...</td>\n      <td>...</td>\n      <td>...</td>\n      <td>...</td>\n      <td>...</td>\n      <td>...</td>\n    </tr>\n    <tr>\n      <th>31160</th>\n      <td>2012</td>\n      <td>London</td>\n      <td>Wrestling</td>\n      <td>Wrestling Freestyle</td>\n      <td>JANIKOWSKI, Damian</td>\n      <td>POL</td>\n      <td>Men</td>\n      <td>Wg 84 KG</td>\n      <td>Bronze</td>\n      <td>Poland</td>\n      <td>POL</td>\n      <td>37999494.0</td>\n      <td>12554.547554</td>\n    </tr>\n    <tr>\n      <th>31161</th>\n      <td>2012</td>\n      <td>London</td>\n      <td>Wrestling</td>\n      <td>Wrestling Freestyle</td>\n      <td>REZAEI, Ghasem Gholamreza</td>\n      <td>IRI</td>\n      <td>Men</td>\n      <td>Wg 96 KG</td>\n      <td>Gold</td>\n      <td>Iran</td>\n      <td>IRI</td>\n      <td>79109272.0</td>\n      <td>NaN</td>\n    </tr>\n    <tr>\n      <th>31162</th>\n      <td>2012</td>\n      <td>London</td>\n      <td>Wrestling</td>\n      <td>Wrestling Freestyle</td>\n      <td>TOTROV, Rustam</td>\n      <td>RUS</td>\n      <td>Men</td>\n      <td>Wg 96 KG</td>\n      <td>Silver</td>\n      <td>Russia</td>\n      <td>RUS</td>\n      <td>144096812.0</td>\n      <td>9092.580536</td>\n    </tr>\n    <tr>\n      <th>31163</th>\n      <td>2012</td>\n      <td>London</td>\n      <td>Wrestling</td>\n      <td>Wrestling Freestyle</td>\n      <td>ALEKSANYAN, Artur</td>\n      <td>ARM</td>\n      <td>Men</td>\n      <td>Wg 96 KG</td>\n      <td>Bronze</td>\n      <td>Armenia</td>\n      <td>ARM</td>\n      <td>3017712.0</td>\n      <td>3489.127690</td>\n    </tr>\n    <tr>\n      <th>31164</th>\n      <td>2012</td>\n      <td>London</td>\n      <td>Wrestling</td>\n      <td>Wrestling Freestyle</td>\n      <td>LIDBERG, Jimmy</td>\n      <td>SWE</td>\n      <td>Men</td>\n      <td>Wg 96 KG</td>\n      <td>Bronze</td>\n      <td>Sweden</td>\n      <td>SWE</td>\n      <td>9798871.0</td>\n      <td>50579.673649</td>\n    </tr>\n  </tbody>\n</table>\n<p>31165 rows × 13 columns</p>\n</div>"
     },
     "metadata": {},
     "execution_count": 187
    }
   ],
   "source": [
    "summer_new = summer.merge(dic, how='left', left_on='Country', right_on='Code')\n",
    "#summer_new.drop('Country_x', axis=1, inplace=True)\n",
    "#summer_new.rename({'Country_y':'Country'}, axis=1, inplace=True)"
   ]
  },
  {
   "cell_type": "code",
   "execution_count": 192,
   "metadata": {
    "tags": []
   },
   "outputs": [
    {
     "output_type": "execute_result",
     "data": {
      "text/plain": "URS    2049\nGDR     825\nROU     640\nFRG     490\nYUG     435\nTCH     329\nEUA     260\nEUN     223\nZZX      48\nSRB      31\nANZ      29\nRU1      17\nMNE      14\nTTO      10\nBOH       7\nBWI       5\nSGP       4\nIOP       3\nName: Country_x, dtype: int64"
     },
     "metadata": {},
     "execution_count": 192
    }
   ],
   "source": [
    "summer_new.loc[summer_new.Code.isnull(), 'Country_x'].value_counts()"
   ]
  },
  {
   "cell_type": "markdown",
   "metadata": {},
   "source": [
    "### Arithmetic operations between DataFrames / Alignment"
   ]
  },
  {
   "cell_type": "markdown",
   "metadata": {},
   "source": [
    "__Import__ the csv-files __ath_2008.csv__ and __ath_2012.csv__ with all medals winners in the Sport __Athletics__ in the Editions __2008__ and __2012__."
   ]
  },
  {
   "cell_type": "code",
   "execution_count": 229,
   "metadata": {},
   "outputs": [],
   "source": [
    "ath_2008 = pd.read_csv('../data/part2/ath_2008.csv', index_col='Athlete')\n",
    "ath_2012 = pd.read_csv('../data/part2/ath_2012.csv', index_col='Athlete')"
   ]
  },
  {
   "cell_type": "markdown",
   "metadata": {},
   "source": [
    "For __all Athletes__ in the two DataFrames, __aggregate/add__ the total number of __Gold__, __Silver__ and __Bronze__ Medals over both editions! __Save__ the aggregated DataFrame in the variable __add__. (Hint: add should contain an index with the Athlete names and three columns, Gold, Silver, Bronze)"
   ]
  },
  {
   "cell_type": "code",
   "execution_count": 230,
   "metadata": {},
   "outputs": [
    {
     "output_type": "execute_result",
     "data": {
      "text/plain": "(                    Gold  Silver  Bronze\n Athlete                                 \n ABAKUMOVA, Maria       0       1       0\n ABEYLEGESSE, Elvan     0       2       0\n ALEKNA, Virgilijus     0       0       1\n ALEXEEV, Denis         0       0       1\n ANTONOVA, Olena        0       0       1\n ...                  ...     ...     ...\n WINEBERG, Mary         1       0       0\n YEGO, Alfred Kirwa     0       0       1\n YURCHENKO, Denys       0       0       1\n ZHANG, Wenxiu          0       0       1\n ZHOU, Chunxiu          0       0       1\n \n [159 rows x 3 columns],\n                          Gold  Silver  Bronze\n Athlete                                      \n ADAMS, Valerie              1       0       0\n ALLEYNE-FORTE, Ade          0       0       1\n AMOS, Nijel                 0       1       0\n ANTYUKH, Natalya            1       1       0\n ASSEFA, Sofia               0       1       0\n ...                       ...     ...     ...\n WILLIAMS, Lauryn            1       0       0\n WILLIAMS, Shericka          0       0       1\n WILLIAMS-MILLS, Novlene     0       0       1\n WLODARCZYK, Anita           1       0       0\n ZHANG, Wenxiu               0       0       1\n \n [171 rows x 3 columns])"
     },
     "metadata": {},
     "execution_count": 230
    }
   ],
   "source": [
    "ath_2008, ath_2012"
   ]
  },
  {
   "cell_type": "code",
   "execution_count": 233,
   "metadata": {},
   "outputs": [],
   "source": [
    "add = ath_2008.add(ath_2012, fill_value=0)"
   ]
  },
  {
   "cell_type": "code",
   "execution_count": 236,
   "metadata": {},
   "outputs": [
    {
     "output_type": "execute_result",
     "data": {
      "text/plain": "True"
     },
     "metadata": {},
     "execution_count": 236
    }
   ],
   "source": [
    "ath_2008.Gold.sum() + ath_2012.Gold.sum() == add.Gold.sum()"
   ]
  },
  {
   "cell_type": "markdown",
   "metadata": {},
   "source": [
    "__Sort__ add by Gold, Silver, Bronze from __high to low__! Change datatype to __integer__, if necessary! The first Athlete in your DataFrame should be ... no surprise ... Usain Bolt with 6 Gold and 0 Silver and Bronze Medals."
   ]
  },
  {
   "cell_type": "code",
   "execution_count": 238,
   "metadata": {},
   "outputs": [
    {
     "output_type": "execute_result",
     "data": {
      "text/plain": "                         Gold  Silver  Bronze\nAthlete                                      \nBOLT, Usain               6.0     0.0     0.0\nFELIX, Allyson            4.0     1.0     0.0\nDIBABA, Tirunesh          3.0     0.0     1.0\nTAYLOR, Angelo            2.0     1.0     0.0\nBEKELE, Kenenisa          2.0     0.0     0.0\n...                       ...     ...     ...\nWILLIAMS, Novelene        0.0     0.0     1.0\nWILLIAMS-MILLS, Novlene   0.0     0.0     1.0\nYEGO, Alfred Kirwa        0.0     0.0     1.0\nYURCHENKO, Denys          0.0     0.0     1.0\nZHOU, Chunxiu             0.0     0.0     1.0\n\n[298 rows x 3 columns]",
      "text/html": "<div>\n<style scoped>\n    .dataframe tbody tr th:only-of-type {\n        vertical-align: middle;\n    }\n\n    .dataframe tbody tr th {\n        vertical-align: top;\n    }\n\n    .dataframe thead th {\n        text-align: right;\n    }\n</style>\n<table border=\"1\" class=\"dataframe\">\n  <thead>\n    <tr style=\"text-align: right;\">\n      <th></th>\n      <th>Gold</th>\n      <th>Silver</th>\n      <th>Bronze</th>\n    </tr>\n    <tr>\n      <th>Athlete</th>\n      <th></th>\n      <th></th>\n      <th></th>\n    </tr>\n  </thead>\n  <tbody>\n    <tr>\n      <th>BOLT, Usain</th>\n      <td>6.0</td>\n      <td>0.0</td>\n      <td>0.0</td>\n    </tr>\n    <tr>\n      <th>FELIX, Allyson</th>\n      <td>4.0</td>\n      <td>1.0</td>\n      <td>0.0</td>\n    </tr>\n    <tr>\n      <th>DIBABA, Tirunesh</th>\n      <td>3.0</td>\n      <td>0.0</td>\n      <td>1.0</td>\n    </tr>\n    <tr>\n      <th>TAYLOR, Angelo</th>\n      <td>2.0</td>\n      <td>1.0</td>\n      <td>0.0</td>\n    </tr>\n    <tr>\n      <th>BEKELE, Kenenisa</th>\n      <td>2.0</td>\n      <td>0.0</td>\n      <td>0.0</td>\n    </tr>\n    <tr>\n      <th>...</th>\n      <td>...</td>\n      <td>...</td>\n      <td>...</td>\n    </tr>\n    <tr>\n      <th>WILLIAMS, Novelene</th>\n      <td>0.0</td>\n      <td>0.0</td>\n      <td>1.0</td>\n    </tr>\n    <tr>\n      <th>WILLIAMS-MILLS, Novlene</th>\n      <td>0.0</td>\n      <td>0.0</td>\n      <td>1.0</td>\n    </tr>\n    <tr>\n      <th>YEGO, Alfred Kirwa</th>\n      <td>0.0</td>\n      <td>0.0</td>\n      <td>1.0</td>\n    </tr>\n    <tr>\n      <th>YURCHENKO, Denys</th>\n      <td>0.0</td>\n      <td>0.0</td>\n      <td>1.0</td>\n    </tr>\n    <tr>\n      <th>ZHOU, Chunxiu</th>\n      <td>0.0</td>\n      <td>0.0</td>\n      <td>1.0</td>\n    </tr>\n  </tbody>\n</table>\n<p>298 rows × 3 columns</p>\n</div>"
     },
     "metadata": {},
     "execution_count": 238
    }
   ],
   "source": [
    "add.sort_values(['Gold', 'Silver', 'Bronze'], ascending=False)"
   ]
  }
 ],
 "metadata": {
  "kernelspec": {
   "display_name": "Python 3",
   "language": "python",
   "name": "python3"
  },
  "language_info": {
   "codemirror_mode": {
    "name": "ipython",
    "version": 3
   },
   "file_extension": ".py",
   "mimetype": "text/x-python",
   "name": "python",
   "nbconvert_exporter": "python",
   "pygments_lexer": "ipython3",
   "version": "3.8.5-final"
  }
 },
 "nbformat": 4,
 "nbformat_minor": 2
}