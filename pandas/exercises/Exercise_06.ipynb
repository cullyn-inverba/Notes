{
 "cells": [
  {
   "cell_type": "markdown",
   "metadata": {},
   "source": [
    "### Exercise 6: Manipulating elements in a DataFrame / Slice "
   ]
  },
  {
   "cell_type": "code",
   "execution_count": 1,
   "metadata": {},
   "outputs": [],
   "source": [
    "# run the cell!\n",
    "import pandas as pd"
   ]
  },
  {
   "cell_type": "code",
   "execution_count": 28,
   "metadata": {},
   "outputs": [],
   "source": [
    "# run the cell!\n",
    "cars = pd.read_csv(\"cars.csv\")"
   ]
  },
  {
   "cell_type": "code",
   "execution_count": 3,
   "metadata": {},
   "outputs": [
    {
     "output_type": "execute_result",
     "data": {
      "text/plain": "      mpg  cylinders  displacement  horsepower  weight  acceleration  \\\n0    18.0          8         307.0       130.0    3504          12.0   \n1    15.0          8         350.0       165.0    3693          11.5   \n2    18.0          8         318.0       150.0    3436          11.0   \n3    16.0          8         304.0       150.0    3433          12.0   \n4    17.0          8         302.0       140.0    3449          10.5   \n..    ...        ...           ...         ...     ...           ...   \n393  27.0          4         140.0        86.0    2790          15.6   \n394  44.0          4          97.0        52.0    2130          24.6   \n395  32.0          4         135.0        84.0    2295          11.6   \n396  28.0          4         120.0        79.0    2625          18.6   \n397  31.0          4         119.0        82.0    2720          19.4   \n\n     model_year  origin                       name  \n0            70     usa  chevrolet chevelle malibu  \n1            70     usa          buick skylark 320  \n2            70     usa         plymouth satellite  \n3            70     usa              amc rebel sst  \n4            70     usa                ford torino  \n..          ...     ...                        ...  \n393          82     usa            ford mustang gl  \n394          82  europe                  vw pickup  \n395          82     usa              dodge rampage  \n396          82     usa                ford ranger  \n397          82     usa             chevrolet s-10  \n\n[398 rows x 9 columns]",
      "text/html": "<div>\n<style scoped>\n    .dataframe tbody tr th:only-of-type {\n        vertical-align: middle;\n    }\n\n    .dataframe tbody tr th {\n        vertical-align: top;\n    }\n\n    .dataframe thead th {\n        text-align: right;\n    }\n</style>\n<table border=\"1\" class=\"dataframe\">\n  <thead>\n    <tr style=\"text-align: right;\">\n      <th></th>\n      <th>mpg</th>\n      <th>cylinders</th>\n      <th>displacement</th>\n      <th>horsepower</th>\n      <th>weight</th>\n      <th>acceleration</th>\n      <th>model_year</th>\n      <th>origin</th>\n      <th>name</th>\n    </tr>\n  </thead>\n  <tbody>\n    <tr>\n      <th>0</th>\n      <td>18.0</td>\n      <td>8</td>\n      <td>307.0</td>\n      <td>130.0</td>\n      <td>3504</td>\n      <td>12.0</td>\n      <td>70</td>\n      <td>usa</td>\n      <td>chevrolet chevelle malibu</td>\n    </tr>\n    <tr>\n      <th>1</th>\n      <td>15.0</td>\n      <td>8</td>\n      <td>350.0</td>\n      <td>165.0</td>\n      <td>3693</td>\n      <td>11.5</td>\n      <td>70</td>\n      <td>usa</td>\n      <td>buick skylark 320</td>\n    </tr>\n    <tr>\n      <th>2</th>\n      <td>18.0</td>\n      <td>8</td>\n      <td>318.0</td>\n      <td>150.0</td>\n      <td>3436</td>\n      <td>11.0</td>\n      <td>70</td>\n      <td>usa</td>\n      <td>plymouth satellite</td>\n    </tr>\n    <tr>\n      <th>3</th>\n      <td>16.0</td>\n      <td>8</td>\n      <td>304.0</td>\n      <td>150.0</td>\n      <td>3433</td>\n      <td>12.0</td>\n      <td>70</td>\n      <td>usa</td>\n      <td>amc rebel sst</td>\n    </tr>\n    <tr>\n      <th>4</th>\n      <td>17.0</td>\n      <td>8</td>\n      <td>302.0</td>\n      <td>140.0</td>\n      <td>3449</td>\n      <td>10.5</td>\n      <td>70</td>\n      <td>usa</td>\n      <td>ford torino</td>\n    </tr>\n    <tr>\n      <th>...</th>\n      <td>...</td>\n      <td>...</td>\n      <td>...</td>\n      <td>...</td>\n      <td>...</td>\n      <td>...</td>\n      <td>...</td>\n      <td>...</td>\n      <td>...</td>\n    </tr>\n    <tr>\n      <th>393</th>\n      <td>27.0</td>\n      <td>4</td>\n      <td>140.0</td>\n      <td>86.0</td>\n      <td>2790</td>\n      <td>15.6</td>\n      <td>82</td>\n      <td>usa</td>\n      <td>ford mustang gl</td>\n    </tr>\n    <tr>\n      <th>394</th>\n      <td>44.0</td>\n      <td>4</td>\n      <td>97.0</td>\n      <td>52.0</td>\n      <td>2130</td>\n      <td>24.6</td>\n      <td>82</td>\n      <td>europe</td>\n      <td>vw pickup</td>\n    </tr>\n    <tr>\n      <th>395</th>\n      <td>32.0</td>\n      <td>4</td>\n      <td>135.0</td>\n      <td>84.0</td>\n      <td>2295</td>\n      <td>11.6</td>\n      <td>82</td>\n      <td>usa</td>\n      <td>dodge rampage</td>\n    </tr>\n    <tr>\n      <th>396</th>\n      <td>28.0</td>\n      <td>4</td>\n      <td>120.0</td>\n      <td>79.0</td>\n      <td>2625</td>\n      <td>18.6</td>\n      <td>82</td>\n      <td>usa</td>\n      <td>ford ranger</td>\n    </tr>\n    <tr>\n      <th>397</th>\n      <td>31.0</td>\n      <td>4</td>\n      <td>119.0</td>\n      <td>82.0</td>\n      <td>2720</td>\n      <td>19.4</td>\n      <td>82</td>\n      <td>usa</td>\n      <td>chevrolet s-10</td>\n    </tr>\n  </tbody>\n</table>\n<p>398 rows × 9 columns</p>\n</div>"
     },
     "metadata": {},
     "execution_count": 3
    }
   ],
   "source": [
    "# run the cell!\n",
    "cars"
   ]
  },
  {
   "cell_type": "markdown",
   "metadata": {},
   "source": [
    "50. __Create a subset__ of the DataFrame __cars__ with all cars having an __mpg higher than 40__! __Save__ the subset in the variable __high_eff__!<br>\n",
    "__high_eff__ should be a new and __independent__ DataFrame. Any changes in high_eff shall __not influence__ the original DataFrame __cars__!\n"
   ]
  },
  {
   "cell_type": "code",
   "execution_count": 10,
   "metadata": {},
   "outputs": [],
   "source": [
    "high_eff = cars.loc[cars.mpg > 40].copy()"
   ]
  },
  {
   "cell_type": "code",
   "execution_count": 11,
   "metadata": {},
   "outputs": [
    {
     "output_type": "execute_result",
     "data": {
      "text/plain": "      mpg  cylinders  displacement  horsepower  weight  acceleration  \\\n244  43.1          4          90.0        48.0    1985          21.5   \n309  41.5          4          98.0        76.0    2144          14.7   \n322  46.6          4          86.0        65.0    2110          17.9   \n324  40.8          4          85.0        65.0    2110          19.2   \n325  44.3          4          90.0        48.0    2085          21.7   \n\n     model_year  origin                     name  \n244          78  europe  vw rabbit custom diesel  \n309          80  europe                vw rabbit  \n322          80   japan                mazda glc  \n324          80   japan               datsun 210  \n325          80  europe     vw rabbit c (diesel)  ",
      "text/html": "<div>\n<style scoped>\n    .dataframe tbody tr th:only-of-type {\n        vertical-align: middle;\n    }\n\n    .dataframe tbody tr th {\n        vertical-align: top;\n    }\n\n    .dataframe thead th {\n        text-align: right;\n    }\n</style>\n<table border=\"1\" class=\"dataframe\">\n  <thead>\n    <tr style=\"text-align: right;\">\n      <th></th>\n      <th>mpg</th>\n      <th>cylinders</th>\n      <th>displacement</th>\n      <th>horsepower</th>\n      <th>weight</th>\n      <th>acceleration</th>\n      <th>model_year</th>\n      <th>origin</th>\n      <th>name</th>\n    </tr>\n  </thead>\n  <tbody>\n    <tr>\n      <th>244</th>\n      <td>43.1</td>\n      <td>4</td>\n      <td>90.0</td>\n      <td>48.0</td>\n      <td>1985</td>\n      <td>21.5</td>\n      <td>78</td>\n      <td>europe</td>\n      <td>vw rabbit custom diesel</td>\n    </tr>\n    <tr>\n      <th>309</th>\n      <td>41.5</td>\n      <td>4</td>\n      <td>98.0</td>\n      <td>76.0</td>\n      <td>2144</td>\n      <td>14.7</td>\n      <td>80</td>\n      <td>europe</td>\n      <td>vw rabbit</td>\n    </tr>\n    <tr>\n      <th>322</th>\n      <td>46.6</td>\n      <td>4</td>\n      <td>86.0</td>\n      <td>65.0</td>\n      <td>2110</td>\n      <td>17.9</td>\n      <td>80</td>\n      <td>japan</td>\n      <td>mazda glc</td>\n    </tr>\n    <tr>\n      <th>324</th>\n      <td>40.8</td>\n      <td>4</td>\n      <td>85.0</td>\n      <td>65.0</td>\n      <td>2110</td>\n      <td>19.2</td>\n      <td>80</td>\n      <td>japan</td>\n      <td>datsun 210</td>\n    </tr>\n    <tr>\n      <th>325</th>\n      <td>44.3</td>\n      <td>4</td>\n      <td>90.0</td>\n      <td>48.0</td>\n      <td>2085</td>\n      <td>21.7</td>\n      <td>80</td>\n      <td>europe</td>\n      <td>vw rabbit c (diesel)</td>\n    </tr>\n  </tbody>\n</table>\n</div>"
     },
     "metadata": {},
     "execution_count": 11
    }
   ],
   "source": [
    "high_eff.head()"
   ]
  },
  {
   "cell_type": "markdown",
   "metadata": {},
   "source": [
    "51. __Cap__ the __mpg__ for all cars in __high_eff__ to __40__ (Overwrite the mpg values)! Your code should not cause any warning message!"
   ]
  },
  {
   "cell_type": "code",
   "execution_count": 17,
   "metadata": {},
   "outputs": [],
   "source": [
    "high_eff.mpg = 40"
   ]
  },
  {
   "cell_type": "markdown",
   "metadata": {},
   "source": [
    "__Inspect__ high_eff! In the column __\"mpg\"__, all values should be __40__!"
   ]
  },
  {
   "cell_type": "code",
   "execution_count": 18,
   "metadata": {},
   "outputs": [
    {
     "output_type": "execute_result",
     "data": {
      "text/plain": "     mpg  cylinders  displacement  horsepower  weight  acceleration  \\\n244   40          4          90.0        48.0    1985          21.5   \n309   40          4          98.0        76.0    2144          14.7   \n322   40          4          86.0        65.0    2110          17.9   \n324   40          4          85.0        65.0    2110          19.2   \n325   40          4          90.0        48.0    2085          21.7   \n326   40          4          90.0        48.0    2335          23.7   \n329   40          4          91.0        67.0    1850          13.8   \n330   40          4          85.0         NaN    1835          17.3   \n394   40          4          97.0        52.0    2130          24.6   \nmpg   40         40          40.0        40.0      40          40.0   \n\n     model_year  origin                     name  \n244          78  europe  vw rabbit custom diesel  \n309          80  europe                vw rabbit  \n322          80   japan                mazda glc  \n324          80   japan               datsun 210  \n325          80  europe     vw rabbit c (diesel)  \n326          80  europe       vw dasher (diesel)  \n329          80   japan      honda civic 1500 gl  \n330          80  europe     renault lecar deluxe  \n394          82  europe                vw pickup  \nmpg          40      40                       40  ",
      "text/html": "<div>\n<style scoped>\n    .dataframe tbody tr th:only-of-type {\n        vertical-align: middle;\n    }\n\n    .dataframe tbody tr th {\n        vertical-align: top;\n    }\n\n    .dataframe thead th {\n        text-align: right;\n    }\n</style>\n<table border=\"1\" class=\"dataframe\">\n  <thead>\n    <tr style=\"text-align: right;\">\n      <th></th>\n      <th>mpg</th>\n      <th>cylinders</th>\n      <th>displacement</th>\n      <th>horsepower</th>\n      <th>weight</th>\n      <th>acceleration</th>\n      <th>model_year</th>\n      <th>origin</th>\n      <th>name</th>\n    </tr>\n  </thead>\n  <tbody>\n    <tr>\n      <th>244</th>\n      <td>40</td>\n      <td>4</td>\n      <td>90.0</td>\n      <td>48.0</td>\n      <td>1985</td>\n      <td>21.5</td>\n      <td>78</td>\n      <td>europe</td>\n      <td>vw rabbit custom diesel</td>\n    </tr>\n    <tr>\n      <th>309</th>\n      <td>40</td>\n      <td>4</td>\n      <td>98.0</td>\n      <td>76.0</td>\n      <td>2144</td>\n      <td>14.7</td>\n      <td>80</td>\n      <td>europe</td>\n      <td>vw rabbit</td>\n    </tr>\n    <tr>\n      <th>322</th>\n      <td>40</td>\n      <td>4</td>\n      <td>86.0</td>\n      <td>65.0</td>\n      <td>2110</td>\n      <td>17.9</td>\n      <td>80</td>\n      <td>japan</td>\n      <td>mazda glc</td>\n    </tr>\n    <tr>\n      <th>324</th>\n      <td>40</td>\n      <td>4</td>\n      <td>85.0</td>\n      <td>65.0</td>\n      <td>2110</td>\n      <td>19.2</td>\n      <td>80</td>\n      <td>japan</td>\n      <td>datsun 210</td>\n    </tr>\n    <tr>\n      <th>325</th>\n      <td>40</td>\n      <td>4</td>\n      <td>90.0</td>\n      <td>48.0</td>\n      <td>2085</td>\n      <td>21.7</td>\n      <td>80</td>\n      <td>europe</td>\n      <td>vw rabbit c (diesel)</td>\n    </tr>\n    <tr>\n      <th>326</th>\n      <td>40</td>\n      <td>4</td>\n      <td>90.0</td>\n      <td>48.0</td>\n      <td>2335</td>\n      <td>23.7</td>\n      <td>80</td>\n      <td>europe</td>\n      <td>vw dasher (diesel)</td>\n    </tr>\n    <tr>\n      <th>329</th>\n      <td>40</td>\n      <td>4</td>\n      <td>91.0</td>\n      <td>67.0</td>\n      <td>1850</td>\n      <td>13.8</td>\n      <td>80</td>\n      <td>japan</td>\n      <td>honda civic 1500 gl</td>\n    </tr>\n    <tr>\n      <th>330</th>\n      <td>40</td>\n      <td>4</td>\n      <td>85.0</td>\n      <td>NaN</td>\n      <td>1835</td>\n      <td>17.3</td>\n      <td>80</td>\n      <td>europe</td>\n      <td>renault lecar deluxe</td>\n    </tr>\n    <tr>\n      <th>394</th>\n      <td>40</td>\n      <td>4</td>\n      <td>97.0</td>\n      <td>52.0</td>\n      <td>2130</td>\n      <td>24.6</td>\n      <td>82</td>\n      <td>europe</td>\n      <td>vw pickup</td>\n    </tr>\n    <tr>\n      <th>mpg</th>\n      <td>40</td>\n      <td>40</td>\n      <td>40.0</td>\n      <td>40.0</td>\n      <td>40</td>\n      <td>40.0</td>\n      <td>40</td>\n      <td>40</td>\n      <td>40</td>\n    </tr>\n  </tbody>\n</table>\n</div>"
     },
     "metadata": {},
     "execution_count": 18
    }
   ],
   "source": [
    "# run the cell!\n",
    "high_eff"
   ]
  },
  {
   "cell_type": "markdown",
   "metadata": {},
   "source": [
    "__Check__ in the original __cars__ Dataframe, whether there are still __values greater than 40__ in the __\"mpg\"__ column! <br>\n",
    "If so, your code is correct!"
   ]
  },
  {
   "cell_type": "code",
   "execution_count": 29,
   "metadata": {
    "scrolled": true
   },
   "outputs": [
    {
     "output_type": "execute_result",
     "data": {
      "text/plain": "46.6"
     },
     "metadata": {},
     "execution_count": 29
    }
   ],
   "source": [
    "# run the cell!\n",
    "cars.mpg.max()"
   ]
  },
  {
   "cell_type": "markdown",
   "metadata": {},
   "source": [
    "52. Now, we want to __manipulate the original__ DataFrame __cars__. __Cap__ all mpg values __greater than 40__ to 40! Your code should not cause any warning message!"
   ]
  },
  {
   "cell_type": "code",
   "execution_count": 38,
   "metadata": {},
   "outputs": [],
   "source": [
    "cars.loc[cars.mpg > 40, \"mpg\"] = 40"
   ]
  },
  {
   "cell_type": "markdown",
   "metadata": {},
   "source": [
    "__Check__, whether there are any values __greater than 40__ in the __\"mpg\"__ column of the __cars__ DataFrame. If so, your code was incorrect!"
   ]
  },
  {
   "cell_type": "code",
   "execution_count": 40,
   "metadata": {
    "scrolled": true
   },
   "outputs": [
    {
     "output_type": "execute_result",
     "data": {
      "text/plain": "40.0"
     },
     "metadata": {},
     "execution_count": 40
    }
   ],
   "source": [
    "# run the cell!\n",
    "cars.mpg.max()"
   ]
  }
 ],
 "metadata": {
  "kernelspec": {
   "display_name": "Python 3",
   "language": "python",
   "name": "python3"
  },
  "language_info": {
   "codemirror_mode": {
    "name": "ipython",
    "version": 3
   },
   "file_extension": ".py",
   "mimetype": "text/x-python",
   "name": "python",
   "nbconvert_exporter": "python",
   "pygments_lexer": "ipython3",
   "version": "3.8.5-final"
  }
 },
 "nbformat": 4,
 "nbformat_minor": 2
}