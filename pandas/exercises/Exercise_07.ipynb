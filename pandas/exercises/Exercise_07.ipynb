{
 "cells": [
  {
   "cell_type": "markdown",
   "metadata": {},
   "source": [
    "### Exercise 7: Sorting, Ranking & Summary Statistics"
   ]
  },
  {
   "cell_type": "code",
   "execution_count": 1,
   "metadata": {},
   "outputs": [],
   "source": [
    "# run the cell!\n",
    "import pandas as pd"
   ]
  },
  {
   "cell_type": "code",
   "execution_count": 2,
   "metadata": {},
   "outputs": [],
   "source": [
    "# run the cell!\n",
    "cars = pd.read_csv(\"cars.csv\")"
   ]
  },
  {
   "cell_type": "code",
   "execution_count": 3,
   "metadata": {},
   "outputs": [
    {
     "output_type": "execute_result",
     "data": {
      "text/plain": "      mpg  cylinders  displacement  horsepower  weight  acceleration  \\\n0    18.0          8         307.0       130.0    3504          12.0   \n1    15.0          8         350.0       165.0    3693          11.5   \n2    18.0          8         318.0       150.0    3436          11.0   \n3    16.0          8         304.0       150.0    3433          12.0   \n4    17.0          8         302.0       140.0    3449          10.5   \n..    ...        ...           ...         ...     ...           ...   \n393  27.0          4         140.0        86.0    2790          15.6   \n394  44.0          4          97.0        52.0    2130          24.6   \n395  32.0          4         135.0        84.0    2295          11.6   \n396  28.0          4         120.0        79.0    2625          18.6   \n397  31.0          4         119.0        82.0    2720          19.4   \n\n     model_year  origin                       name  \n0            70     usa  chevrolet chevelle malibu  \n1            70     usa          buick skylark 320  \n2            70     usa         plymouth satellite  \n3            70     usa              amc rebel sst  \n4            70     usa                ford torino  \n..          ...     ...                        ...  \n393          82     usa            ford mustang gl  \n394          82  europe                  vw pickup  \n395          82     usa              dodge rampage  \n396          82     usa                ford ranger  \n397          82     usa             chevrolet s-10  \n\n[398 rows x 9 columns]",
      "text/html": "<div>\n<style scoped>\n    .dataframe tbody tr th:only-of-type {\n        vertical-align: middle;\n    }\n\n    .dataframe tbody tr th {\n        vertical-align: top;\n    }\n\n    .dataframe thead th {\n        text-align: right;\n    }\n</style>\n<table border=\"1\" class=\"dataframe\">\n  <thead>\n    <tr style=\"text-align: right;\">\n      <th></th>\n      <th>mpg</th>\n      <th>cylinders</th>\n      <th>displacement</th>\n      <th>horsepower</th>\n      <th>weight</th>\n      <th>acceleration</th>\n      <th>model_year</th>\n      <th>origin</th>\n      <th>name</th>\n    </tr>\n  </thead>\n  <tbody>\n    <tr>\n      <th>0</th>\n      <td>18.0</td>\n      <td>8</td>\n      <td>307.0</td>\n      <td>130.0</td>\n      <td>3504</td>\n      <td>12.0</td>\n      <td>70</td>\n      <td>usa</td>\n      <td>chevrolet chevelle malibu</td>\n    </tr>\n    <tr>\n      <th>1</th>\n      <td>15.0</td>\n      <td>8</td>\n      <td>350.0</td>\n      <td>165.0</td>\n      <td>3693</td>\n      <td>11.5</td>\n      <td>70</td>\n      <td>usa</td>\n      <td>buick skylark 320</td>\n    </tr>\n    <tr>\n      <th>2</th>\n      <td>18.0</td>\n      <td>8</td>\n      <td>318.0</td>\n      <td>150.0</td>\n      <td>3436</td>\n      <td>11.0</td>\n      <td>70</td>\n      <td>usa</td>\n      <td>plymouth satellite</td>\n    </tr>\n    <tr>\n      <th>3</th>\n      <td>16.0</td>\n      <td>8</td>\n      <td>304.0</td>\n      <td>150.0</td>\n      <td>3433</td>\n      <td>12.0</td>\n      <td>70</td>\n      <td>usa</td>\n      <td>amc rebel sst</td>\n    </tr>\n    <tr>\n      <th>4</th>\n      <td>17.0</td>\n      <td>8</td>\n      <td>302.0</td>\n      <td>140.0</td>\n      <td>3449</td>\n      <td>10.5</td>\n      <td>70</td>\n      <td>usa</td>\n      <td>ford torino</td>\n    </tr>\n    <tr>\n      <th>...</th>\n      <td>...</td>\n      <td>...</td>\n      <td>...</td>\n      <td>...</td>\n      <td>...</td>\n      <td>...</td>\n      <td>...</td>\n      <td>...</td>\n      <td>...</td>\n    </tr>\n    <tr>\n      <th>393</th>\n      <td>27.0</td>\n      <td>4</td>\n      <td>140.0</td>\n      <td>86.0</td>\n      <td>2790</td>\n      <td>15.6</td>\n      <td>82</td>\n      <td>usa</td>\n      <td>ford mustang gl</td>\n    </tr>\n    <tr>\n      <th>394</th>\n      <td>44.0</td>\n      <td>4</td>\n      <td>97.0</td>\n      <td>52.0</td>\n      <td>2130</td>\n      <td>24.6</td>\n      <td>82</td>\n      <td>europe</td>\n      <td>vw pickup</td>\n    </tr>\n    <tr>\n      <th>395</th>\n      <td>32.0</td>\n      <td>4</td>\n      <td>135.0</td>\n      <td>84.0</td>\n      <td>2295</td>\n      <td>11.6</td>\n      <td>82</td>\n      <td>usa</td>\n      <td>dodge rampage</td>\n    </tr>\n    <tr>\n      <th>396</th>\n      <td>28.0</td>\n      <td>4</td>\n      <td>120.0</td>\n      <td>79.0</td>\n      <td>2625</td>\n      <td>18.6</td>\n      <td>82</td>\n      <td>usa</td>\n      <td>ford ranger</td>\n    </tr>\n    <tr>\n      <th>397</th>\n      <td>31.0</td>\n      <td>4</td>\n      <td>119.0</td>\n      <td>82.0</td>\n      <td>2720</td>\n      <td>19.4</td>\n      <td>82</td>\n      <td>usa</td>\n      <td>chevrolet s-10</td>\n    </tr>\n  </tbody>\n</table>\n<p>398 rows × 9 columns</p>\n</div>"
     },
     "metadata": {},
     "execution_count": 3
    }
   ],
   "source": [
    "# run the cell!\n",
    "cars"
   ]
  },
  {
   "cell_type": "markdown",
   "metadata": {},
   "source": [
    "53. __Sort__ the __cars__ DataFrame by the __\"mpg\"__ column from __high to low__ and __save__ the new order!"
   ]
  },
  {
   "cell_type": "code",
   "execution_count": 4,
   "metadata": {
    "scrolled": true
   },
   "outputs": [],
   "source": [
    "cars.sort_values(by = \"mpg\", ascending=False, inplace=True, ignore_index = False)"
   ]
  },
  {
   "cell_type": "markdown",
   "metadata": {},
   "source": [
    "__Inspect__ cars! What is the __name__ of the __most fuel efficient__ car?"
   ]
  },
  {
   "cell_type": "code",
   "execution_count": 5,
   "metadata": {},
   "outputs": [
    {
     "output_type": "execute_result",
     "data": {
      "text/plain": "      mpg  cylinders  displacement  horsepower  weight  acceleration  \\\n322  46.6          4          86.0        65.0    2110          17.9   \n\n     model_year origin       name  \n322          80  japan  mazda glc  ",
      "text/html": "<div>\n<style scoped>\n    .dataframe tbody tr th:only-of-type {\n        vertical-align: middle;\n    }\n\n    .dataframe tbody tr th {\n        vertical-align: top;\n    }\n\n    .dataframe thead th {\n        text-align: right;\n    }\n</style>\n<table border=\"1\" class=\"dataframe\">\n  <thead>\n    <tr style=\"text-align: right;\">\n      <th></th>\n      <th>mpg</th>\n      <th>cylinders</th>\n      <th>displacement</th>\n      <th>horsepower</th>\n      <th>weight</th>\n      <th>acceleration</th>\n      <th>model_year</th>\n      <th>origin</th>\n      <th>name</th>\n    </tr>\n  </thead>\n  <tbody>\n    <tr>\n      <th>322</th>\n      <td>46.6</td>\n      <td>4</td>\n      <td>86.0</td>\n      <td>65.0</td>\n      <td>2110</td>\n      <td>17.9</td>\n      <td>80</td>\n      <td>japan</td>\n      <td>mazda glc</td>\n    </tr>\n  </tbody>\n</table>\n</div>"
     },
     "metadata": {},
     "execution_count": 5
    }
   ],
   "source": [
    "#run the cell!\n",
    "cars.head(1)"
   ]
  },
  {
   "cell_type": "markdown",
   "metadata": {},
   "source": [
    "The most fuel efficient car is ... mazda glc!"
   ]
  },
  {
   "cell_type": "markdown",
   "metadata": {},
   "source": [
    "54. __Sort__ the __cars__ DataFrame by the __index__ from __low to high__. __Save__ the order!"
   ]
  },
  {
   "cell_type": "code",
   "execution_count": 6,
   "metadata": {},
   "outputs": [],
   "source": [
    "cars.sort_index(inplace=True)"
   ]
  },
  {
   "cell_type": "code",
   "execution_count": 7,
   "metadata": {},
   "outputs": [
    {
     "output_type": "execute_result",
     "data": {
      "text/plain": "    mpg  cylinders  displacement  horsepower  weight  acceleration  \\\n0  18.0          8         307.0       130.0    3504          12.0   \n1  15.0          8         350.0       165.0    3693          11.5   \n2  18.0          8         318.0       150.0    3436          11.0   \n3  16.0          8         304.0       150.0    3433          12.0   \n4  17.0          8         302.0       140.0    3449          10.5   \n\n   model_year origin                       name  \n0          70    usa  chevrolet chevelle malibu  \n1          70    usa          buick skylark 320  \n2          70    usa         plymouth satellite  \n3          70    usa              amc rebel sst  \n4          70    usa                ford torino  ",
      "text/html": "<div>\n<style scoped>\n    .dataframe tbody tr th:only-of-type {\n        vertical-align: middle;\n    }\n\n    .dataframe tbody tr th {\n        vertical-align: top;\n    }\n\n    .dataframe thead th {\n        text-align: right;\n    }\n</style>\n<table border=\"1\" class=\"dataframe\">\n  <thead>\n    <tr style=\"text-align: right;\">\n      <th></th>\n      <th>mpg</th>\n      <th>cylinders</th>\n      <th>displacement</th>\n      <th>horsepower</th>\n      <th>weight</th>\n      <th>acceleration</th>\n      <th>model_year</th>\n      <th>origin</th>\n      <th>name</th>\n    </tr>\n  </thead>\n  <tbody>\n    <tr>\n      <th>0</th>\n      <td>18.0</td>\n      <td>8</td>\n      <td>307.0</td>\n      <td>130.0</td>\n      <td>3504</td>\n      <td>12.0</td>\n      <td>70</td>\n      <td>usa</td>\n      <td>chevrolet chevelle malibu</td>\n    </tr>\n    <tr>\n      <th>1</th>\n      <td>15.0</td>\n      <td>8</td>\n      <td>350.0</td>\n      <td>165.0</td>\n      <td>3693</td>\n      <td>11.5</td>\n      <td>70</td>\n      <td>usa</td>\n      <td>buick skylark 320</td>\n    </tr>\n    <tr>\n      <th>2</th>\n      <td>18.0</td>\n      <td>8</td>\n      <td>318.0</td>\n      <td>150.0</td>\n      <td>3436</td>\n      <td>11.0</td>\n      <td>70</td>\n      <td>usa</td>\n      <td>plymouth satellite</td>\n    </tr>\n    <tr>\n      <th>3</th>\n      <td>16.0</td>\n      <td>8</td>\n      <td>304.0</td>\n      <td>150.0</td>\n      <td>3433</td>\n      <td>12.0</td>\n      <td>70</td>\n      <td>usa</td>\n      <td>amc rebel sst</td>\n    </tr>\n    <tr>\n      <th>4</th>\n      <td>17.0</td>\n      <td>8</td>\n      <td>302.0</td>\n      <td>140.0</td>\n      <td>3449</td>\n      <td>10.5</td>\n      <td>70</td>\n      <td>usa</td>\n      <td>ford torino</td>\n    </tr>\n  </tbody>\n</table>\n</div>"
     },
     "metadata": {},
     "execution_count": 7
    }
   ],
   "source": [
    "# run the cell!\n",
    "cars.head()"
   ]
  },
  {
   "cell_type": "markdown",
   "metadata": {},
   "source": [
    "55. __Create__ a new column __\"hp_rank\"__ with the __horsepower rank__ for each car (__rank 1__ means __highest__ horsepower)! __Fill in the gaps!__"
   ]
  },
  {
   "cell_type": "code",
   "execution_count": 8,
   "metadata": {},
   "outputs": [],
   "source": [
    "cars[\"hp_rank\"] = cars.horsepower.rank(method = \"min\", ascending = False)"
   ]
  },
  {
   "cell_type": "markdown",
   "metadata": {},
   "source": [
    "56. __Sort cars__ by the __\"horsepower\"__ from __high to low__. The __\"hp_rank\"__ for the car __\"pontiac grand prix\"__ is...? "
   ]
  },
  {
   "cell_type": "code",
   "execution_count": 9,
   "metadata": {
    "scrolled": true
   },
   "outputs": [
    {
     "output_type": "execute_result",
     "data": {
      "text/plain": "      mpg  cylinders  displacement  horsepower  weight  acceleration  \\\n116  16.0          8         400.0       230.0    4278           9.5   \n95   12.0          8         455.0       225.0    4951          11.0   \n13   14.0          8         455.0       225.0    3086          10.0   \n8    14.0          8         455.0       225.0    4425          10.0   \n6    14.0          8         454.0       220.0    4354           9.0   \n\n     model_year origin                      name  hp_rank  \n116          73    usa        pontiac grand prix      1.0  \n95           73    usa  buick electra 225 custom      2.0  \n13           70    usa   buick estate wagon (sw)      2.0  \n8            70    usa          pontiac catalina      2.0  \n6            70    usa          chevrolet impala      5.0  ",
      "text/html": "<div>\n<style scoped>\n    .dataframe tbody tr th:only-of-type {\n        vertical-align: middle;\n    }\n\n    .dataframe tbody tr th {\n        vertical-align: top;\n    }\n\n    .dataframe thead th {\n        text-align: right;\n    }\n</style>\n<table border=\"1\" class=\"dataframe\">\n  <thead>\n    <tr style=\"text-align: right;\">\n      <th></th>\n      <th>mpg</th>\n      <th>cylinders</th>\n      <th>displacement</th>\n      <th>horsepower</th>\n      <th>weight</th>\n      <th>acceleration</th>\n      <th>model_year</th>\n      <th>origin</th>\n      <th>name</th>\n      <th>hp_rank</th>\n    </tr>\n  </thead>\n  <tbody>\n    <tr>\n      <th>116</th>\n      <td>16.0</td>\n      <td>8</td>\n      <td>400.0</td>\n      <td>230.0</td>\n      <td>4278</td>\n      <td>9.5</td>\n      <td>73</td>\n      <td>usa</td>\n      <td>pontiac grand prix</td>\n      <td>1.0</td>\n    </tr>\n    <tr>\n      <th>95</th>\n      <td>12.0</td>\n      <td>8</td>\n      <td>455.0</td>\n      <td>225.0</td>\n      <td>4951</td>\n      <td>11.0</td>\n      <td>73</td>\n      <td>usa</td>\n      <td>buick electra 225 custom</td>\n      <td>2.0</td>\n    </tr>\n    <tr>\n      <th>13</th>\n      <td>14.0</td>\n      <td>8</td>\n      <td>455.0</td>\n      <td>225.0</td>\n      <td>3086</td>\n      <td>10.0</td>\n      <td>70</td>\n      <td>usa</td>\n      <td>buick estate wagon (sw)</td>\n      <td>2.0</td>\n    </tr>\n    <tr>\n      <th>8</th>\n      <td>14.0</td>\n      <td>8</td>\n      <td>455.0</td>\n      <td>225.0</td>\n      <td>4425</td>\n      <td>10.0</td>\n      <td>70</td>\n      <td>usa</td>\n      <td>pontiac catalina</td>\n      <td>2.0</td>\n    </tr>\n    <tr>\n      <th>6</th>\n      <td>14.0</td>\n      <td>8</td>\n      <td>454.0</td>\n      <td>220.0</td>\n      <td>4354</td>\n      <td>9.0</td>\n      <td>70</td>\n      <td>usa</td>\n      <td>chevrolet impala</td>\n      <td>5.0</td>\n    </tr>\n  </tbody>\n</table>\n</div>"
     },
     "metadata": {},
     "execution_count": 9
    }
   ],
   "source": [
    "cars.sort_values(by=\"horsepower\", ascending=False).head()"
   ]
  },
  {
   "cell_type": "markdown",
   "metadata": {},
   "source": [
    "The __\"hp_rank\"__ for the car __\"pontiac grand prix\"__ is... 1!"
   ]
  },
  {
   "cell_type": "markdown",
   "metadata": {},
   "source": [
    "57. Check the amount of __unique values__ in __all columns__ of the cars DataFrame! __How many__ unique values are in the __\"name\"__ column?"
   ]
  },
  {
   "cell_type": "code",
   "execution_count": 10,
   "metadata": {
    "scrolled": true
   },
   "outputs": [
    {
     "output_type": "execute_result",
     "data": {
      "text/plain": "300"
     },
     "metadata": {},
     "execution_count": 10
    }
   ],
   "source": [
    "len(cars.name.unique())"
   ]
  },
  {
   "cell_type": "markdown",
   "metadata": {},
   "source": [
    "There are ... 300 unique values in the \"name\" column! (There must be 98 name duplicates!)"
   ]
  },
  {
   "cell_type": "markdown",
   "metadata": {},
   "source": [
    "58. __Select__ the __10__ cars with the __highest weights__!"
   ]
  },
  {
   "cell_type": "code",
   "execution_count": 11,
   "metadata": {},
   "outputs": [
    {
     "output_type": "execute_result",
     "data": {
      "text/plain": "      mpg  cylinders  displacement  horsepower  weight  acceleration  \\\n44   13.0          8         400.0       175.0    5140          12.0   \n103  11.0          8         400.0       150.0    4997          14.0   \n42   12.0          8         383.0       180.0    4955          11.5   \n90   12.0          8         429.0       198.0    4952          11.5   \n95   12.0          8         455.0       225.0    4951          11.0   \n104  12.0          8         400.0       167.0    4906          12.5   \n43   13.0          8         400.0       170.0    4746          12.0   \n94   13.0          8         440.0       215.0    4735          11.0   \n28    9.0          8         304.0       193.0    4732          18.5   \n137  13.0          8         350.0       150.0    4699          14.5   \n\n     model_year origin                          name  hp_rank  \n44           71    usa           pontiac safari (sw)     23.0  \n103          73    usa              chevrolet impala     46.0  \n42           71    usa             dodge monaco (sw)     18.0  \n90           73    usa      mercury marquis brougham     12.0  \n95           73    usa      buick electra 225 custom      2.0  \n104          73    usa                  ford country     33.0  \n43           71    usa      ford country squire (sw)     28.0  \n94           73    usa  chrysler new yorker brougham      6.0  \n28           70    usa                      ih 1200d     14.0  \n137          74    usa      buick century luxus (sw)     46.0  ",
      "text/html": "<div>\n<style scoped>\n    .dataframe tbody tr th:only-of-type {\n        vertical-align: middle;\n    }\n\n    .dataframe tbody tr th {\n        vertical-align: top;\n    }\n\n    .dataframe thead th {\n        text-align: right;\n    }\n</style>\n<table border=\"1\" class=\"dataframe\">\n  <thead>\n    <tr style=\"text-align: right;\">\n      <th></th>\n      <th>mpg</th>\n      <th>cylinders</th>\n      <th>displacement</th>\n      <th>horsepower</th>\n      <th>weight</th>\n      <th>acceleration</th>\n      <th>model_year</th>\n      <th>origin</th>\n      <th>name</th>\n      <th>hp_rank</th>\n    </tr>\n  </thead>\n  <tbody>\n    <tr>\n      <th>44</th>\n      <td>13.0</td>\n      <td>8</td>\n      <td>400.0</td>\n      <td>175.0</td>\n      <td>5140</td>\n      <td>12.0</td>\n      <td>71</td>\n      <td>usa</td>\n      <td>pontiac safari (sw)</td>\n      <td>23.0</td>\n    </tr>\n    <tr>\n      <th>103</th>\n      <td>11.0</td>\n      <td>8</td>\n      <td>400.0</td>\n      <td>150.0</td>\n      <td>4997</td>\n      <td>14.0</td>\n      <td>73</td>\n      <td>usa</td>\n      <td>chevrolet impala</td>\n      <td>46.0</td>\n    </tr>\n    <tr>\n      <th>42</th>\n      <td>12.0</td>\n      <td>8</td>\n      <td>383.0</td>\n      <td>180.0</td>\n      <td>4955</td>\n      <td>11.5</td>\n      <td>71</td>\n      <td>usa</td>\n      <td>dodge monaco (sw)</td>\n      <td>18.0</td>\n    </tr>\n    <tr>\n      <th>90</th>\n      <td>12.0</td>\n      <td>8</td>\n      <td>429.0</td>\n      <td>198.0</td>\n      <td>4952</td>\n      <td>11.5</td>\n      <td>73</td>\n      <td>usa</td>\n      <td>mercury marquis brougham</td>\n      <td>12.0</td>\n    </tr>\n    <tr>\n      <th>95</th>\n      <td>12.0</td>\n      <td>8</td>\n      <td>455.0</td>\n      <td>225.0</td>\n      <td>4951</td>\n      <td>11.0</td>\n      <td>73</td>\n      <td>usa</td>\n      <td>buick electra 225 custom</td>\n      <td>2.0</td>\n    </tr>\n    <tr>\n      <th>104</th>\n      <td>12.0</td>\n      <td>8</td>\n      <td>400.0</td>\n      <td>167.0</td>\n      <td>4906</td>\n      <td>12.5</td>\n      <td>73</td>\n      <td>usa</td>\n      <td>ford country</td>\n      <td>33.0</td>\n    </tr>\n    <tr>\n      <th>43</th>\n      <td>13.0</td>\n      <td>8</td>\n      <td>400.0</td>\n      <td>170.0</td>\n      <td>4746</td>\n      <td>12.0</td>\n      <td>71</td>\n      <td>usa</td>\n      <td>ford country squire (sw)</td>\n      <td>28.0</td>\n    </tr>\n    <tr>\n      <th>94</th>\n      <td>13.0</td>\n      <td>8</td>\n      <td>440.0</td>\n      <td>215.0</td>\n      <td>4735</td>\n      <td>11.0</td>\n      <td>73</td>\n      <td>usa</td>\n      <td>chrysler new yorker brougham</td>\n      <td>6.0</td>\n    </tr>\n    <tr>\n      <th>28</th>\n      <td>9.0</td>\n      <td>8</td>\n      <td>304.0</td>\n      <td>193.0</td>\n      <td>4732</td>\n      <td>18.5</td>\n      <td>70</td>\n      <td>usa</td>\n      <td>ih 1200d</td>\n      <td>14.0</td>\n    </tr>\n    <tr>\n      <th>137</th>\n      <td>13.0</td>\n      <td>8</td>\n      <td>350.0</td>\n      <td>150.0</td>\n      <td>4699</td>\n      <td>14.5</td>\n      <td>74</td>\n      <td>usa</td>\n      <td>buick century luxus (sw)</td>\n      <td>46.0</td>\n    </tr>\n  </tbody>\n</table>\n</div>"
     },
     "metadata": {},
     "execution_count": 11
    }
   ],
   "source": [
    "cars.nlargest(n=10, columns='weight')"
   ]
  },
  {
   "cell_type": "markdown",
   "metadata": {},
   "source": [
    "59. Call an appropriate method on the __cars__ DataFrame that provides plenty of __summary statistics__!"
   ]
  },
  {
   "cell_type": "code",
   "execution_count": 13,
   "metadata": {},
   "outputs": [
    {
     "output_type": "execute_result",
     "data": {
      "text/plain": "              mpg   cylinders  displacement  horsepower       weight  \\\ncount  398.000000  398.000000    398.000000  392.000000   398.000000   \nmean    23.514573    5.454774    193.425879  104.469388  2970.424623   \nstd      7.815984    1.701004    104.269838   38.491160   846.841774   \nmin      9.000000    3.000000     68.000000   46.000000  1613.000000   \n25%     17.500000    4.000000    104.250000   75.000000  2223.750000   \n50%     23.000000    4.000000    148.500000   93.500000  2803.500000   \n75%     29.000000    8.000000    262.000000  126.000000  3608.000000   \nmax     46.600000    8.000000    455.000000  230.000000  5140.000000   \n\n       acceleration  model_year     hp_rank  \ncount    398.000000  398.000000  392.000000  \nmean      15.568090   76.010050  192.239796  \nstd        2.757689    3.697627  113.441056  \nmin        8.000000   70.000000    1.000000  \n25%       13.825000   73.000000   98.500000  \n50%       15.500000   76.000000  196.500000  \n75%       17.175000   79.000000  294.000000  \nmax       24.800000   82.000000  391.000000  ",
      "text/html": "<div>\n<style scoped>\n    .dataframe tbody tr th:only-of-type {\n        vertical-align: middle;\n    }\n\n    .dataframe tbody tr th {\n        vertical-align: top;\n    }\n\n    .dataframe thead th {\n        text-align: right;\n    }\n</style>\n<table border=\"1\" class=\"dataframe\">\n  <thead>\n    <tr style=\"text-align: right;\">\n      <th></th>\n      <th>mpg</th>\n      <th>cylinders</th>\n      <th>displacement</th>\n      <th>horsepower</th>\n      <th>weight</th>\n      <th>acceleration</th>\n      <th>model_year</th>\n      <th>hp_rank</th>\n    </tr>\n  </thead>\n  <tbody>\n    <tr>\n      <th>count</th>\n      <td>398.000000</td>\n      <td>398.000000</td>\n      <td>398.000000</td>\n      <td>392.000000</td>\n      <td>398.000000</td>\n      <td>398.000000</td>\n      <td>398.000000</td>\n      <td>392.000000</td>\n    </tr>\n    <tr>\n      <th>mean</th>\n      <td>23.514573</td>\n      <td>5.454774</td>\n      <td>193.425879</td>\n      <td>104.469388</td>\n      <td>2970.424623</td>\n      <td>15.568090</td>\n      <td>76.010050</td>\n      <td>192.239796</td>\n    </tr>\n    <tr>\n      <th>std</th>\n      <td>7.815984</td>\n      <td>1.701004</td>\n      <td>104.269838</td>\n      <td>38.491160</td>\n      <td>846.841774</td>\n      <td>2.757689</td>\n      <td>3.697627</td>\n      <td>113.441056</td>\n    </tr>\n    <tr>\n      <th>min</th>\n      <td>9.000000</td>\n      <td>3.000000</td>\n      <td>68.000000</td>\n      <td>46.000000</td>\n      <td>1613.000000</td>\n      <td>8.000000</td>\n      <td>70.000000</td>\n      <td>1.000000</td>\n    </tr>\n    <tr>\n      <th>25%</th>\n      <td>17.500000</td>\n      <td>4.000000</td>\n      <td>104.250000</td>\n      <td>75.000000</td>\n      <td>2223.750000</td>\n      <td>13.825000</td>\n      <td>73.000000</td>\n      <td>98.500000</td>\n    </tr>\n    <tr>\n      <th>50%</th>\n      <td>23.000000</td>\n      <td>4.000000</td>\n      <td>148.500000</td>\n      <td>93.500000</td>\n      <td>2803.500000</td>\n      <td>15.500000</td>\n      <td>76.000000</td>\n      <td>196.500000</td>\n    </tr>\n    <tr>\n      <th>75%</th>\n      <td>29.000000</td>\n      <td>8.000000</td>\n      <td>262.000000</td>\n      <td>126.000000</td>\n      <td>3608.000000</td>\n      <td>17.175000</td>\n      <td>79.000000</td>\n      <td>294.000000</td>\n    </tr>\n    <tr>\n      <th>max</th>\n      <td>46.600000</td>\n      <td>8.000000</td>\n      <td>455.000000</td>\n      <td>230.000000</td>\n      <td>5140.000000</td>\n      <td>24.800000</td>\n      <td>82.000000</td>\n      <td>391.000000</td>\n    </tr>\n  </tbody>\n</table>\n</div>"
     },
     "metadata": {},
     "execution_count": 13
    }
   ],
   "source": [
    "cars.describe()"
   ]
  },
  {
   "cell_type": "markdown",
   "metadata": {},
   "source": [
    "60. Create a __correlation matrix__ for the __cars__ DataFrame! Which factor has the __highest negative correlation__ to __mpg__?"
   ]
  },
  {
   "cell_type": "code",
   "execution_count": 42,
   "metadata": {},
   "outputs": [
    {
     "output_type": "execute_result",
     "data": {
      "text/plain": "mpg             1.000000\ncylinders      -0.775396\ndisplacement   -0.804203\nhorsepower     -0.778427\nweight         -0.831741\nacceleration    0.420289\nmodel_year      0.579267\nhp_rank         0.836399\ndtype: float64"
     },
     "metadata": {},
     "execution_count": 42
    }
   ],
   "source": [
    "cars.corrwith(cars.mpg)"
   ]
  },
  {
   "cell_type": "markdown",
   "metadata": {},
   "source": [
    "The factor weight shows the highest negative correlation to mpg! The lower the weight, the higher the fuel efficiency!"
   ]
  }
 ],
 "metadata": {
  "kernelspec": {
   "display_name": "Python 3",
   "language": "python",
   "name": "python3"
  },
  "language_info": {
   "codemirror_mode": {
    "name": "ipython",
    "version": 3
   },
   "file_extension": ".py",
   "mimetype": "text/x-python",
   "name": "python",
   "nbconvert_exporter": "python",
   "pygments_lexer": "ipython3",
   "version": "3.8.5-final"
  }
 },
 "nbformat": 4,
 "nbformat_minor": 2
}