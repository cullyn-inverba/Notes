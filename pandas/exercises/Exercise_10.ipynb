{
 "cells": [
  {
   "cell_type": "markdown",
   "metadata": {},
   "source": [
    "### Exercise 10: Importing Data from messy csv-files"
   ]
  },
  {
   "cell_type": "markdown",
   "metadata": {},
   "source": [
    "__Import__ the cars Dataset from the messy csv-file __cars_raw.csv__ into a Pandas DataFrame. Use appropriate __parameters__ in the __pd.read_csv()__ method to bring the DataFrame into a clean format. __Columns__ should have the following __labels__:"
   ]
  },
  {
   "cell_type": "code",
   "execution_count": 16,
   "metadata": {},
   "outputs": [],
   "source": [
    "import pandas as pd\n",
    "import os"
   ]
  },
  {
   "cell_type": "code",
   "execution_count": 33,
   "metadata": {},
   "outputs": [],
   "source": [
    "wd = os.getcwd()\n",
    "dataloc = '/data/part2/'\n",
    "path = wd+dataloc"
   ]
  },
  {
   "cell_type": "code",
   "execution_count": 51,
   "metadata": {},
   "outputs": [],
   "source": [
    "labels = ['mpg',\n",
    " 'cylinders',\n",
    " 'displacement',\n",
    " 'horsepower',\n",
    " 'weight',\n",
    " 'acceleration',\n",
    " 'year',\n",
    " 'origin',\n",
    " 'name']"
   ]
  },
  {
   "cell_type": "code",
   "execution_count": 53,
   "metadata": {},
   "outputs": [],
   "source": [
    "cars = pd.read_csv(path+'cars_raw.csv', skiprows=2, skipfooter=1, names=labels)"
   ]
  },
  {
   "cell_type": "code",
   "execution_count": 56,
   "metadata": {},
   "outputs": [],
   "source": [
    "cars.to_csv(path+'cars_imp.csv', index=False)"
   ]
  },
  {
   "cell_type": "code",
   "execution_count": 57,
   "metadata": {},
   "outputs": [
    {
     "output_type": "execute_result",
     "data": {
      "text/plain": "      mpg  cylinders  displacement horsepower  weight  acceleration  year  \\\n0    18.0          8         307.0   130.0 hp    3504          12.0    70   \n1    15.0          8         350.0   165.0 hp    3693          11.5    70   \n2    18.0          8         318.0   150.0 hp    3436          11.0    70   \n3    16.0          8         304.0   150.0 hp    3433          12.0    70   \n4    17.0          8         302.0   140.0 hp    3449          10.5    70   \n..    ...        ...           ...        ...     ...           ...   ...   \n324  12.0          8         429.0   198.0 hp    4952          11.5    73   \n325  27.0          4         101.0    83.0 hp    2202          15.3    76   \n326  17.0          6         250.0   100.0 hp    3329          15.5    71   \n327  14.5          8         351.0   152.0 hp    4215          12.8    76   \n328  25.0          6         181.0   110.0 hp    2945          16.4    82   \n\n            origin                          name  \n0    United States    chevrolet chevelle malibu   \n1    United States            buick skylark 320   \n2    United States           plymouth satellite   \n3              usa                amc rebel sst   \n4              usa                  FORD TORINO   \n..             ...                           ...  \n324            usa     mercury marquis brougham   \n325         europe                 renault 12tl   \n326            usa    chevrolet chevelle malibu   \n327            usa             ford gran torino   \n328            usa        buick century limited   \n\n[329 rows x 9 columns]",
      "text/html": "<div>\n<style scoped>\n    .dataframe tbody tr th:only-of-type {\n        vertical-align: middle;\n    }\n\n    .dataframe tbody tr th {\n        vertical-align: top;\n    }\n\n    .dataframe thead th {\n        text-align: right;\n    }\n</style>\n<table border=\"1\" class=\"dataframe\">\n  <thead>\n    <tr style=\"text-align: right;\">\n      <th></th>\n      <th>mpg</th>\n      <th>cylinders</th>\n      <th>displacement</th>\n      <th>horsepower</th>\n      <th>weight</th>\n      <th>acceleration</th>\n      <th>year</th>\n      <th>origin</th>\n      <th>name</th>\n    </tr>\n  </thead>\n  <tbody>\n    <tr>\n      <th>0</th>\n      <td>18.0</td>\n      <td>8</td>\n      <td>307.0</td>\n      <td>130.0 hp</td>\n      <td>3504</td>\n      <td>12.0</td>\n      <td>70</td>\n      <td>United States</td>\n      <td>chevrolet chevelle malibu</td>\n    </tr>\n    <tr>\n      <th>1</th>\n      <td>15.0</td>\n      <td>8</td>\n      <td>350.0</td>\n      <td>165.0 hp</td>\n      <td>3693</td>\n      <td>11.5</td>\n      <td>70</td>\n      <td>United States</td>\n      <td>buick skylark 320</td>\n    </tr>\n    <tr>\n      <th>2</th>\n      <td>18.0</td>\n      <td>8</td>\n      <td>318.0</td>\n      <td>150.0 hp</td>\n      <td>3436</td>\n      <td>11.0</td>\n      <td>70</td>\n      <td>United States</td>\n      <td>plymouth satellite</td>\n    </tr>\n    <tr>\n      <th>3</th>\n      <td>16.0</td>\n      <td>8</td>\n      <td>304.0</td>\n      <td>150.0 hp</td>\n      <td>3433</td>\n      <td>12.0</td>\n      <td>70</td>\n      <td>usa</td>\n      <td>amc rebel sst</td>\n    </tr>\n    <tr>\n      <th>4</th>\n      <td>17.0</td>\n      <td>8</td>\n      <td>302.0</td>\n      <td>140.0 hp</td>\n      <td>3449</td>\n      <td>10.5</td>\n      <td>70</td>\n      <td>usa</td>\n      <td>FORD TORINO</td>\n    </tr>\n    <tr>\n      <th>...</th>\n      <td>...</td>\n      <td>...</td>\n      <td>...</td>\n      <td>...</td>\n      <td>...</td>\n      <td>...</td>\n      <td>...</td>\n      <td>...</td>\n      <td>...</td>\n    </tr>\n    <tr>\n      <th>324</th>\n      <td>12.0</td>\n      <td>8</td>\n      <td>429.0</td>\n      <td>198.0 hp</td>\n      <td>4952</td>\n      <td>11.5</td>\n      <td>73</td>\n      <td>usa</td>\n      <td>mercury marquis brougham</td>\n    </tr>\n    <tr>\n      <th>325</th>\n      <td>27.0</td>\n      <td>4</td>\n      <td>101.0</td>\n      <td>83.0 hp</td>\n      <td>2202</td>\n      <td>15.3</td>\n      <td>76</td>\n      <td>europe</td>\n      <td>renault 12tl</td>\n    </tr>\n    <tr>\n      <th>326</th>\n      <td>17.0</td>\n      <td>6</td>\n      <td>250.0</td>\n      <td>100.0 hp</td>\n      <td>3329</td>\n      <td>15.5</td>\n      <td>71</td>\n      <td>usa</td>\n      <td>chevrolet chevelle malibu</td>\n    </tr>\n    <tr>\n      <th>327</th>\n      <td>14.5</td>\n      <td>8</td>\n      <td>351.0</td>\n      <td>152.0 hp</td>\n      <td>4215</td>\n      <td>12.8</td>\n      <td>76</td>\n      <td>usa</td>\n      <td>ford gran torino</td>\n    </tr>\n    <tr>\n      <th>328</th>\n      <td>25.0</td>\n      <td>6</td>\n      <td>181.0</td>\n      <td>110.0 hp</td>\n      <td>2945</td>\n      <td>16.4</td>\n      <td>82</td>\n      <td>usa</td>\n      <td>buick century limited</td>\n    </tr>\n  </tbody>\n</table>\n<p>329 rows × 9 columns</p>\n</div>"
     },
     "metadata": {},
     "execution_count": 57
    }
   ],
   "source": [
    "pd.read_csv(path+'cars_imp.csv')"
   ]
  }
 ],
 "metadata": {
  "kernelspec": {
   "display_name": "Python 3",
   "language": "python",
   "name": "python3"
  },
  "language_info": {
   "codemirror_mode": {
    "name": "ipython",
    "version": 3
   },
   "file_extension": ".py",
   "mimetype": "text/x-python",
   "name": "python",
   "nbconvert_exporter": "python",
   "pygments_lexer": "ipython3",
   "version": "3.8.5-final"
  }
 },
 "nbformat": 4,
 "nbformat_minor": 2
}